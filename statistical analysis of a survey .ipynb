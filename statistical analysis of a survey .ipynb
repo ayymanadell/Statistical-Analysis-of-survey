{
 "cells": [
  {
   "cell_type": "code",
   "execution_count": 1,
   "id": "2d0e9c88",
   "metadata": {},
   "outputs": [],
   "source": [
    "#importing liberaries  \n",
    "import pandas as pd \n",
    "import numpy as np \n",
    "import matplotlib.pyplot as plt \n",
    "%matplotlib inline\n",
    "import seaborn as sns \n",
    "import scipy.stats as stats \n",
    "import statsmodels.api as sm\n",
    "from statsmodels.stats.proportion import proportions_ztest\n",
    "from statsmodels.stats.proportion import proportion_confint"
   ]
  },
  {
   "cell_type": "markdown",
   "id": "0f3b5934",
   "metadata": {},
   "source": [
    "## 1- reading the data  and preparing it for analysis:"
   ]
  },
  {
   "cell_type": "code",
   "execution_count": 2,
   "id": "71530b8a",
   "metadata": {},
   "outputs": [],
   "source": [
    "csv = pd.read_csv('أثر إدارة المخاطر على أمن المعلومات في صناعة الخدمات اللوجستية بالبريد السعودي.csv')"
   ]
  },
  {
   "cell_type": "code",
   "execution_count": 3,
   "id": "7aa5ce79",
   "metadata": {},
   "outputs": [],
   "source": [
    "df = csv "
   ]
  },
  {
   "cell_type": "code",
   "execution_count": 4,
   "id": "5435b626",
   "metadata": {
    "scrolled": false
   },
   "outputs": [
    {
     "data": {
      "text/html": [
       "<div>\n",
       "<style scoped>\n",
       "    .dataframe tbody tr th:only-of-type {\n",
       "        vertical-align: middle;\n",
       "    }\n",
       "\n",
       "    .dataframe tbody tr th {\n",
       "        vertical-align: top;\n",
       "    }\n",
       "\n",
       "    .dataframe thead th {\n",
       "        text-align: right;\n",
       "    }\n",
       "</style>\n",
       "<table border=\"1\" class=\"dataframe\">\n",
       "  <thead>\n",
       "    <tr style=\"text-align: right;\">\n",
       "      <th></th>\n",
       "      <th>Timestamp</th>\n",
       "      <th>العمر</th>\n",
       "      <th>الجنس</th>\n",
       "      <th>الجنسية</th>\n",
       "      <th>سنوات الخبرة</th>\n",
       "      <th>هل البريد السعودي مهتم بإدارة المخاطر ؟</th>\n",
       "      <th>هل تم تقديم دورات أو ندوات عن إدارة المخاطر في البريد السعودي؟</th>\n",
       "      <th>هل يتواجد مختصين في إدارة المخاطر من أجل أمن المعلومات لدى البريد السعودي ؟</th>\n",
       "      <th>هل هنالك صعوبة بتطبيق خطة إدارة المخاطر في البريد السعودي؟</th>\n",
       "      <th>هل قدمت إدارة المخاطر سلاسة في الخدمات اللوجستية لدى البريد السعودي ؟</th>\n",
       "      <th>هل تطبيق إدارة المخاطر في البريد السعودي عزز إحترافية العملية اللوجستية ؟</th>\n",
       "      <th>هل ساهمت إدارة المخاطر في رصد ثغرات في الخدمات المقدمة من البريد السعودي؟</th>\n",
       "      <th>هل  يواجه أمن المعلومات في الخدمات اللوجستية العديد من المخاطر الداخلية أثناء عملية التوريد لدى البريد السعودي؟</th>\n",
       "      <th>هل  يواجه أمن المعلومات في الخدمات اللوجستية العديد من المخاطر الخارجية أثناء عملية التوريد لدى البريد السعودي؟</th>\n",
       "      <th>هل قد تواجه إستمرارية توفير الخدمات اللوجستية على سلسة التوريد مخاطر أمن معلومات إلكترونية  ؟</th>\n",
       "      <th>هل المخاطر التي يواجها أمن المعلومات في صناعة الخدمات اللوجستية متكررة لا تستحدث ؟</th>\n",
       "      <th>هل التطورات التقنية أبرزت المخاطر المعلوماتية التي يواجهها أمن المعلومات عند صناعة الخدمات اللوجستية لدى البريد السعودي ؟</th>\n",
       "      <th>هل آمن المعلومات الأكثر عرضه للمخاطر عند صناعة الخدمات اللوجستية في البريد السعودي؟</th>\n",
       "      <th>هل هنالك فرص لمزيد من التطوير في الخدمات اللوجستية التي تقدم حاليا لدى البريد السعودي؟</th>\n",
       "    </tr>\n",
       "  </thead>\n",
       "  <tbody>\n",
       "    <tr>\n",
       "      <th>0</th>\n",
       "      <td>2023/04/07 5:54:04 am EET</td>\n",
       "      <td>20-25</td>\n",
       "      <td>أنثى</td>\n",
       "      <td>سعودي</td>\n",
       "      <td>0-2</td>\n",
       "      <td>ربما</td>\n",
       "      <td>ربما</td>\n",
       "      <td>ربما</td>\n",
       "      <td>ربما</td>\n",
       "      <td>ربما</td>\n",
       "      <td>ربما</td>\n",
       "      <td>ربما</td>\n",
       "      <td>ربما</td>\n",
       "      <td>ربما</td>\n",
       "      <td>ربما</td>\n",
       "      <td>ربما</td>\n",
       "      <td>ربما</td>\n",
       "      <td>ربما</td>\n",
       "      <td>ربما</td>\n",
       "    </tr>\n",
       "    <tr>\n",
       "      <th>1</th>\n",
       "      <td>2023/04/07 11:38:47 am EET</td>\n",
       "      <td>20-25</td>\n",
       "      <td>أنثى</td>\n",
       "      <td>سعودي</td>\n",
       "      <td>4-Mar</td>\n",
       "      <td>نعم</td>\n",
       "      <td>نعم</td>\n",
       "      <td>لا</td>\n",
       "      <td>ربما</td>\n",
       "      <td>ربما</td>\n",
       "      <td>نعم</td>\n",
       "      <td>ربما</td>\n",
       "      <td>نعم</td>\n",
       "      <td>نعم</td>\n",
       "      <td>نعم</td>\n",
       "      <td>نعم</td>\n",
       "      <td>لا</td>\n",
       "      <td>نعم</td>\n",
       "      <td>نعم</td>\n",
       "    </tr>\n",
       "    <tr>\n",
       "      <th>2</th>\n",
       "      <td>2023/04/07 12:20:02 pm EET</td>\n",
       "      <td>20-25</td>\n",
       "      <td>ذكر</td>\n",
       "      <td>غير سعودي</td>\n",
       "      <td>0-2</td>\n",
       "      <td>ربما</td>\n",
       "      <td>نعم</td>\n",
       "      <td>لا</td>\n",
       "      <td>ربما</td>\n",
       "      <td>لا</td>\n",
       "      <td>نعم</td>\n",
       "      <td>نعم</td>\n",
       "      <td>لا</td>\n",
       "      <td>لا</td>\n",
       "      <td>لا</td>\n",
       "      <td>نعم</td>\n",
       "      <td>نعم</td>\n",
       "      <td>ربما</td>\n",
       "      <td>ربما</td>\n",
       "    </tr>\n",
       "    <tr>\n",
       "      <th>3</th>\n",
       "      <td>2023/04/07 12:26:21 pm EET</td>\n",
       "      <td>26-30</td>\n",
       "      <td>أنثى</td>\n",
       "      <td>سعودي</td>\n",
       "      <td>4-Mar</td>\n",
       "      <td>نعم</td>\n",
       "      <td>نعم</td>\n",
       "      <td>نعم</td>\n",
       "      <td>لا</td>\n",
       "      <td>نعم</td>\n",
       "      <td>ربما</td>\n",
       "      <td>نعم</td>\n",
       "      <td>لا</td>\n",
       "      <td>لا</td>\n",
       "      <td>لا</td>\n",
       "      <td>لا</td>\n",
       "      <td>نعم</td>\n",
       "      <td>نعم</td>\n",
       "      <td>نعم</td>\n",
       "    </tr>\n",
       "    <tr>\n",
       "      <th>4</th>\n",
       "      <td>2023/04/07 12:29:23 pm EET</td>\n",
       "      <td>20-25</td>\n",
       "      <td>ذكر</td>\n",
       "      <td>سعودي</td>\n",
       "      <td>4-Mar</td>\n",
       "      <td>نعم</td>\n",
       "      <td>لا</td>\n",
       "      <td>نعم</td>\n",
       "      <td>نعم</td>\n",
       "      <td>نعم</td>\n",
       "      <td>نعم</td>\n",
       "      <td>لا</td>\n",
       "      <td>نعم</td>\n",
       "      <td>نعم</td>\n",
       "      <td>نعم</td>\n",
       "      <td>نعم</td>\n",
       "      <td>نعم</td>\n",
       "      <td>نعم</td>\n",
       "      <td>نعم</td>\n",
       "    </tr>\n",
       "  </tbody>\n",
       "</table>\n",
       "</div>"
      ],
      "text/plain": [
       "                    Timestamp  العمر الجنس    الجنسية سنوات الخبرة   \\\n",
       "0   2023/04/07 5:54:04 am EET  20-25  أنثى      سعودي           0-2   \n",
       "1  2023/04/07 11:38:47 am EET  20-25  أنثى      سعودي         4-Mar   \n",
       "2  2023/04/07 12:20:02 pm EET  20-25   ذكر  غير سعودي           0-2   \n",
       "3  2023/04/07 12:26:21 pm EET  26-30  أنثى      سعودي         4-Mar   \n",
       "4  2023/04/07 12:29:23 pm EET  20-25   ذكر      سعودي         4-Mar   \n",
       "\n",
       "  هل البريد السعودي مهتم بإدارة المخاطر ؟  \\\n",
       "0                                    ربما   \n",
       "1                                     نعم   \n",
       "2                                    ربما   \n",
       "3                                     نعم   \n",
       "4                                     نعم   \n",
       "\n",
       "  هل تم تقديم دورات أو ندوات عن إدارة المخاطر في البريد السعودي؟  \\\n",
       "0                                               ربما               \n",
       "1                                                نعم               \n",
       "2                                                نعم               \n",
       "3                                                نعم               \n",
       "4                                                 لا               \n",
       "\n",
       "  هل يتواجد مختصين في إدارة المخاطر من أجل أمن المعلومات لدى البريد السعودي ؟  \\\n",
       "0                                               ربما                            \n",
       "1                                                 لا                            \n",
       "2                                                 لا                            \n",
       "3                                                نعم                            \n",
       "4                                                نعم                            \n",
       "\n",
       "  هل هنالك صعوبة بتطبيق خطة إدارة المخاطر في البريد السعودي؟  \\\n",
       "0                                               ربما           \n",
       "1                                               ربما           \n",
       "2                                               ربما           \n",
       "3                                                 لا           \n",
       "4                                                نعم           \n",
       "\n",
       "  هل قدمت إدارة المخاطر سلاسة في الخدمات اللوجستية لدى البريد السعودي ؟  \\\n",
       "0                                               ربما                      \n",
       "1                                               ربما                      \n",
       "2                                                 لا                      \n",
       "3                                                نعم                      \n",
       "4                                                نعم                      \n",
       "\n",
       "  هل تطبيق إدارة المخاطر في البريد السعودي عزز إحترافية العملية اللوجستية ؟  \\\n",
       "0                                               ربما                          \n",
       "1                                                نعم                          \n",
       "2                                                نعم                          \n",
       "3                                               ربما                          \n",
       "4                                                نعم                          \n",
       "\n",
       "  هل ساهمت إدارة المخاطر في رصد ثغرات في الخدمات المقدمة من البريد السعودي؟  \\\n",
       "0                                               ربما                          \n",
       "1                                               ربما                          \n",
       "2                                                نعم                          \n",
       "3                                                نعم                          \n",
       "4                                                 لا                          \n",
       "\n",
       "  هل  يواجه أمن المعلومات في الخدمات اللوجستية العديد من المخاطر الداخلية أثناء عملية التوريد لدى البريد السعودي؟  \\\n",
       "0                                               ربما                                                                \n",
       "1                                                نعم                                                                \n",
       "2                                                 لا                                                                \n",
       "3                                                 لا                                                                \n",
       "4                                                نعم                                                                \n",
       "\n",
       "  هل  يواجه أمن المعلومات في الخدمات اللوجستية العديد من المخاطر الخارجية أثناء عملية التوريد لدى البريد السعودي؟  \\\n",
       "0                                               ربما                                                                \n",
       "1                                                نعم                                                                \n",
       "2                                                 لا                                                                \n",
       "3                                                 لا                                                                \n",
       "4                                                نعم                                                                \n",
       "\n",
       "   هل قد تواجه إستمرارية توفير الخدمات اللوجستية على سلسة التوريد مخاطر أمن معلومات إلكترونية  ؟  \\\n",
       "0                                               ربما                                               \n",
       "1                                                نعم                                               \n",
       "2                                                 لا                                               \n",
       "3                                                 لا                                               \n",
       "4                                                نعم                                               \n",
       "\n",
       "  هل المخاطر التي يواجها أمن المعلومات في صناعة الخدمات اللوجستية متكررة لا تستحدث ؟  \\\n",
       "0                                               ربما                                   \n",
       "1                                                نعم                                   \n",
       "2                                                نعم                                   \n",
       "3                                                 لا                                   \n",
       "4                                                نعم                                   \n",
       "\n",
       "  هل التطورات التقنية أبرزت المخاطر المعلوماتية التي يواجهها أمن المعلومات عند صناعة الخدمات اللوجستية لدى البريد السعودي ؟  \\\n",
       "0                                               ربما                                                                          \n",
       "1                                                 لا                                                                          \n",
       "2                                                نعم                                                                          \n",
       "3                                                نعم                                                                          \n",
       "4                                                نعم                                                                          \n",
       "\n",
       "  هل آمن المعلومات الأكثر عرضه للمخاطر عند صناعة الخدمات اللوجستية في البريد السعودي؟  \\\n",
       "0                                               ربما                                    \n",
       "1                                                نعم                                    \n",
       "2                                               ربما                                    \n",
       "3                                                نعم                                    \n",
       "4                                                نعم                                    \n",
       "\n",
       "  هل هنالك فرص لمزيد من التطوير في الخدمات اللوجستية التي تقدم حاليا لدى البريد السعودي؟  \n",
       "0                                               ربما                                      \n",
       "1                                                نعم                                      \n",
       "2                                               ربما                                      \n",
       "3                                                نعم                                      \n",
       "4                                                نعم                                      "
      ]
     },
     "execution_count": 4,
     "metadata": {},
     "output_type": "execute_result"
    }
   ],
   "source": [
    "df.head()"
   ]
  },
  {
   "cell_type": "code",
   "execution_count": 5,
   "id": "6763c6d1",
   "metadata": {},
   "outputs": [
    {
     "data": {
      "text/plain": [
       "(100, 19)"
      ]
     },
     "execution_count": 5,
     "metadata": {},
     "output_type": "execute_result"
    }
   ],
   "source": [
    "df.shape"
   ]
  },
  {
   "cell_type": "code",
   "execution_count": 6,
   "id": "8e37378f",
   "metadata": {},
   "outputs": [
    {
     "data": {
      "text/plain": [
       "Index(['Timestamp', 'العمر', 'الجنس', 'الجنسية', 'سنوات الخبرة ',\n",
       "       'هل البريد السعودي مهتم بإدارة المخاطر ؟',\n",
       "       'هل تم تقديم دورات أو ندوات عن إدارة المخاطر في البريد السعودي؟',\n",
       "       'هل يتواجد مختصين في إدارة المخاطر من أجل أمن المعلومات لدى البريد السعودي ؟',\n",
       "       'هل هنالك صعوبة بتطبيق خطة إدارة المخاطر في البريد السعودي؟',\n",
       "       'هل قدمت إدارة المخاطر سلاسة في الخدمات اللوجستية لدى البريد السعودي ؟',\n",
       "       'هل تطبيق إدارة المخاطر في البريد السعودي عزز إحترافية العملية اللوجستية ؟',\n",
       "       'هل ساهمت إدارة المخاطر في رصد ثغرات في الخدمات المقدمة من البريد السعودي؟',\n",
       "       'هل  يواجه أمن المعلومات في الخدمات اللوجستية العديد من المخاطر الداخلية أثناء عملية التوريد لدى البريد السعودي؟',\n",
       "       'هل  يواجه أمن المعلومات في الخدمات اللوجستية العديد من المخاطر الخارجية أثناء عملية التوريد لدى البريد السعودي؟',\n",
       "       ' هل قد تواجه إستمرارية توفير الخدمات اللوجستية على سلسة التوريد مخاطر أمن معلومات إلكترونية  ؟',\n",
       "       'هل المخاطر التي يواجها أمن المعلومات في صناعة الخدمات اللوجستية متكررة لا تستحدث ؟',\n",
       "       'هل التطورات التقنية أبرزت المخاطر المعلوماتية التي يواجهها أمن المعلومات عند صناعة الخدمات اللوجستية لدى البريد السعودي ؟',\n",
       "       'هل آمن المعلومات الأكثر عرضه للمخاطر عند صناعة الخدمات اللوجستية في البريد السعودي؟',\n",
       "       'هل هنالك فرص لمزيد من التطوير في الخدمات اللوجستية التي تقدم حاليا لدى البريد السعودي؟'],\n",
       "      dtype='object')"
      ]
     },
     "execution_count": 6,
     "metadata": {},
     "output_type": "execute_result"
    }
   ],
   "source": [
    "df.columns"
   ]
  },
  {
   "cell_type": "markdown",
   "id": "155a51f7",
   "metadata": {},
   "source": [
    "#### 1.1 columns names are too long so i will set an index for it and i will transfer it into numbers:"
   ]
  },
  {
   "cell_type": "code",
   "execution_count": 7,
   "id": "b3788808",
   "metadata": {
    "scrolled": true
   },
   "outputs": [
    {
     "data": {
      "text/html": [
       "<div>\n",
       "<style scoped>\n",
       "    .dataframe tbody tr th:only-of-type {\n",
       "        vertical-align: middle;\n",
       "    }\n",
       "\n",
       "    .dataframe tbody tr th {\n",
       "        vertical-align: top;\n",
       "    }\n",
       "\n",
       "    .dataframe thead th {\n",
       "        text-align: right;\n",
       "    }\n",
       "</style>\n",
       "<table border=\"1\" class=\"dataframe\">\n",
       "  <thead>\n",
       "    <tr style=\"text-align: right;\">\n",
       "      <th></th>\n",
       "      <th>column_name</th>\n",
       "    </tr>\n",
       "  </thead>\n",
       "  <tbody>\n",
       "    <tr>\n",
       "      <th>0</th>\n",
       "      <td>Timestamp</td>\n",
       "    </tr>\n",
       "    <tr>\n",
       "      <th>1</th>\n",
       "      <td>العمر</td>\n",
       "    </tr>\n",
       "    <tr>\n",
       "      <th>2</th>\n",
       "      <td>الجنس</td>\n",
       "    </tr>\n",
       "    <tr>\n",
       "      <th>3</th>\n",
       "      <td>الجنسية</td>\n",
       "    </tr>\n",
       "    <tr>\n",
       "      <th>4</th>\n",
       "      <td>سنوات الخبرة</td>\n",
       "    </tr>\n",
       "    <tr>\n",
       "      <th>5</th>\n",
       "      <td>هل البريد السعودي مهتم بإدارة المخاطر ؟</td>\n",
       "    </tr>\n",
       "    <tr>\n",
       "      <th>6</th>\n",
       "      <td>هل تم تقديم دورات أو ندوات عن إدارة المخاطر في...</td>\n",
       "    </tr>\n",
       "    <tr>\n",
       "      <th>7</th>\n",
       "      <td>هل يتواجد مختصين في إدارة المخاطر من أجل أمن ا...</td>\n",
       "    </tr>\n",
       "    <tr>\n",
       "      <th>8</th>\n",
       "      <td>هل هنالك صعوبة بتطبيق خطة إدارة المخاطر في الب...</td>\n",
       "    </tr>\n",
       "    <tr>\n",
       "      <th>9</th>\n",
       "      <td>هل قدمت إدارة المخاطر سلاسة في الخدمات اللوجست...</td>\n",
       "    </tr>\n",
       "    <tr>\n",
       "      <th>10</th>\n",
       "      <td>هل تطبيق إدارة المخاطر في البريد السعودي عزز إ...</td>\n",
       "    </tr>\n",
       "    <tr>\n",
       "      <th>11</th>\n",
       "      <td>هل ساهمت إدارة المخاطر في رصد ثغرات في الخدمات...</td>\n",
       "    </tr>\n",
       "    <tr>\n",
       "      <th>12</th>\n",
       "      <td>هل  يواجه أمن المعلومات في الخدمات اللوجستية ا...</td>\n",
       "    </tr>\n",
       "    <tr>\n",
       "      <th>13</th>\n",
       "      <td>هل  يواجه أمن المعلومات في الخدمات اللوجستية ا...</td>\n",
       "    </tr>\n",
       "    <tr>\n",
       "      <th>14</th>\n",
       "      <td>هل قد تواجه إستمرارية توفير الخدمات اللوجستية...</td>\n",
       "    </tr>\n",
       "    <tr>\n",
       "      <th>15</th>\n",
       "      <td>هل المخاطر التي يواجها أمن المعلومات في صناعة ...</td>\n",
       "    </tr>\n",
       "    <tr>\n",
       "      <th>16</th>\n",
       "      <td>هل التطورات التقنية أبرزت المخاطر المعلوماتية ...</td>\n",
       "    </tr>\n",
       "    <tr>\n",
       "      <th>17</th>\n",
       "      <td>هل آمن المعلومات الأكثر عرضه للمخاطر عند صناعة...</td>\n",
       "    </tr>\n",
       "    <tr>\n",
       "      <th>18</th>\n",
       "      <td>هل هنالك فرص لمزيد من التطوير في الخدمات اللوج...</td>\n",
       "    </tr>\n",
       "  </tbody>\n",
       "</table>\n",
       "</div>"
      ],
      "text/plain": [
       "                                          column_name\n",
       "0                                           Timestamp\n",
       "1                                               العمر\n",
       "2                                               الجنس\n",
       "3                                             الجنسية\n",
       "4                                       سنوات الخبرة \n",
       "5             هل البريد السعودي مهتم بإدارة المخاطر ؟\n",
       "6   هل تم تقديم دورات أو ندوات عن إدارة المخاطر في...\n",
       "7   هل يتواجد مختصين في إدارة المخاطر من أجل أمن ا...\n",
       "8   هل هنالك صعوبة بتطبيق خطة إدارة المخاطر في الب...\n",
       "9   هل قدمت إدارة المخاطر سلاسة في الخدمات اللوجست...\n",
       "10  هل تطبيق إدارة المخاطر في البريد السعودي عزز إ...\n",
       "11  هل ساهمت إدارة المخاطر في رصد ثغرات في الخدمات...\n",
       "12  هل  يواجه أمن المعلومات في الخدمات اللوجستية ا...\n",
       "13  هل  يواجه أمن المعلومات في الخدمات اللوجستية ا...\n",
       "14   هل قد تواجه إستمرارية توفير الخدمات اللوجستية...\n",
       "15  هل المخاطر التي يواجها أمن المعلومات في صناعة ...\n",
       "16  هل التطورات التقنية أبرزت المخاطر المعلوماتية ...\n",
       "17  هل آمن المعلومات الأكثر عرضه للمخاطر عند صناعة...\n",
       "18  هل هنالك فرص لمزيد من التطوير في الخدمات اللوج..."
      ]
     },
     "execution_count": 7,
     "metadata": {},
     "output_type": "execute_result"
    }
   ],
   "source": [
    "#data dictionary\n",
    "df_index = pd.DataFrame(df.columns ,index=[i for i in range(len(csv.columns))],columns=['column_name'])\n",
    "df_index"
   ]
  },
  {
   "cell_type": "code",
   "execution_count": 8,
   "id": "ea0a2c96",
   "metadata": {},
   "outputs": [],
   "source": [
    "df.columns = [ i for i in range(len(csv.columns))]"
   ]
  },
  {
   "cell_type": "markdown",
   "id": "e605831d",
   "metadata": {},
   "source": [
    ".-----------------------------------------------------------------------------------."
   ]
  },
  {
   "cell_type": "markdown",
   "id": "0adefc79",
   "metadata": {},
   "source": [
    "#### 1.2 there are arabic values i will convert it into english:"
   ]
  },
  {
   "cell_type": "code",
   "execution_count": 9,
   "id": "b86ee861",
   "metadata": {},
   "outputs": [],
   "source": [
    "df[2].replace({'أنثى':'F','ذكر':'M'},inplace=True)"
   ]
  },
  {
   "cell_type": "code",
   "execution_count": 10,
   "id": "a41ef0ef",
   "metadata": {},
   "outputs": [],
   "source": [
    "df[3].replace({'سعودي':'Saudi', 'غير سعودي':'Not Saudi'}, inplace=True)"
   ]
  },
  {
   "cell_type": "code",
   "execution_count": 11,
   "id": "0180fcda",
   "metadata": {},
   "outputs": [],
   "source": [
    "#defining function that takes the yes no question and convert its values to english words \n",
    "def yes_no(df):\n",
    "    for i in df.columns[5:]:\n",
    "        df[i] = df[i].replace({'نعم':'Yes','لا':'No','ربما':'Maybe'})\n",
    "    return df \n",
    "    "
   ]
  },
  {
   "cell_type": "code",
   "execution_count": 12,
   "id": "7969c5c8",
   "metadata": {},
   "outputs": [],
   "source": [
    "df = yes_no(df)"
   ]
  },
  {
   "cell_type": "code",
   "execution_count": 13,
   "id": "7d7dafc6",
   "metadata": {
    "scrolled": false
   },
   "outputs": [
    {
     "data": {
      "text/html": [
       "<div>\n",
       "<style scoped>\n",
       "    .dataframe tbody tr th:only-of-type {\n",
       "        vertical-align: middle;\n",
       "    }\n",
       "\n",
       "    .dataframe tbody tr th {\n",
       "        vertical-align: top;\n",
       "    }\n",
       "\n",
       "    .dataframe thead th {\n",
       "        text-align: right;\n",
       "    }\n",
       "</style>\n",
       "<table border=\"1\" class=\"dataframe\">\n",
       "  <thead>\n",
       "    <tr style=\"text-align: right;\">\n",
       "      <th></th>\n",
       "      <th>0</th>\n",
       "      <th>1</th>\n",
       "      <th>2</th>\n",
       "      <th>3</th>\n",
       "      <th>4</th>\n",
       "      <th>5</th>\n",
       "      <th>6</th>\n",
       "      <th>7</th>\n",
       "      <th>8</th>\n",
       "      <th>9</th>\n",
       "      <th>10</th>\n",
       "      <th>11</th>\n",
       "      <th>12</th>\n",
       "      <th>13</th>\n",
       "      <th>14</th>\n",
       "      <th>15</th>\n",
       "      <th>16</th>\n",
       "      <th>17</th>\n",
       "      <th>18</th>\n",
       "    </tr>\n",
       "  </thead>\n",
       "  <tbody>\n",
       "    <tr>\n",
       "      <th>0</th>\n",
       "      <td>2023/04/07 5:54:04 am EET</td>\n",
       "      <td>20-25</td>\n",
       "      <td>F</td>\n",
       "      <td>Saudi</td>\n",
       "      <td>0-2</td>\n",
       "      <td>Maybe</td>\n",
       "      <td>Maybe</td>\n",
       "      <td>Maybe</td>\n",
       "      <td>Maybe</td>\n",
       "      <td>Maybe</td>\n",
       "      <td>Maybe</td>\n",
       "      <td>Maybe</td>\n",
       "      <td>Maybe</td>\n",
       "      <td>Maybe</td>\n",
       "      <td>Maybe</td>\n",
       "      <td>Maybe</td>\n",
       "      <td>Maybe</td>\n",
       "      <td>Maybe</td>\n",
       "      <td>Maybe</td>\n",
       "    </tr>\n",
       "    <tr>\n",
       "      <th>1</th>\n",
       "      <td>2023/04/07 11:38:47 am EET</td>\n",
       "      <td>20-25</td>\n",
       "      <td>F</td>\n",
       "      <td>Saudi</td>\n",
       "      <td>4-Mar</td>\n",
       "      <td>Yes</td>\n",
       "      <td>Yes</td>\n",
       "      <td>No</td>\n",
       "      <td>Maybe</td>\n",
       "      <td>Maybe</td>\n",
       "      <td>Yes</td>\n",
       "      <td>Maybe</td>\n",
       "      <td>Yes</td>\n",
       "      <td>Yes</td>\n",
       "      <td>Yes</td>\n",
       "      <td>Yes</td>\n",
       "      <td>No</td>\n",
       "      <td>Yes</td>\n",
       "      <td>Yes</td>\n",
       "    </tr>\n",
       "    <tr>\n",
       "      <th>2</th>\n",
       "      <td>2023/04/07 12:20:02 pm EET</td>\n",
       "      <td>20-25</td>\n",
       "      <td>M</td>\n",
       "      <td>Not Saudi</td>\n",
       "      <td>0-2</td>\n",
       "      <td>Maybe</td>\n",
       "      <td>Yes</td>\n",
       "      <td>No</td>\n",
       "      <td>Maybe</td>\n",
       "      <td>No</td>\n",
       "      <td>Yes</td>\n",
       "      <td>Yes</td>\n",
       "      <td>No</td>\n",
       "      <td>No</td>\n",
       "      <td>No</td>\n",
       "      <td>Yes</td>\n",
       "      <td>Yes</td>\n",
       "      <td>Maybe</td>\n",
       "      <td>Maybe</td>\n",
       "    </tr>\n",
       "    <tr>\n",
       "      <th>3</th>\n",
       "      <td>2023/04/07 12:26:21 pm EET</td>\n",
       "      <td>26-30</td>\n",
       "      <td>F</td>\n",
       "      <td>Saudi</td>\n",
       "      <td>4-Mar</td>\n",
       "      <td>Yes</td>\n",
       "      <td>Yes</td>\n",
       "      <td>Yes</td>\n",
       "      <td>No</td>\n",
       "      <td>Yes</td>\n",
       "      <td>Maybe</td>\n",
       "      <td>Yes</td>\n",
       "      <td>No</td>\n",
       "      <td>No</td>\n",
       "      <td>No</td>\n",
       "      <td>No</td>\n",
       "      <td>Yes</td>\n",
       "      <td>Yes</td>\n",
       "      <td>Yes</td>\n",
       "    </tr>\n",
       "    <tr>\n",
       "      <th>4</th>\n",
       "      <td>2023/04/07 12:29:23 pm EET</td>\n",
       "      <td>20-25</td>\n",
       "      <td>M</td>\n",
       "      <td>Saudi</td>\n",
       "      <td>4-Mar</td>\n",
       "      <td>Yes</td>\n",
       "      <td>No</td>\n",
       "      <td>Yes</td>\n",
       "      <td>Yes</td>\n",
       "      <td>Yes</td>\n",
       "      <td>Yes</td>\n",
       "      <td>No</td>\n",
       "      <td>Yes</td>\n",
       "      <td>Yes</td>\n",
       "      <td>Yes</td>\n",
       "      <td>Yes</td>\n",
       "      <td>Yes</td>\n",
       "      <td>Yes</td>\n",
       "      <td>Yes</td>\n",
       "    </tr>\n",
       "  </tbody>\n",
       "</table>\n",
       "</div>"
      ],
      "text/plain": [
       "                           0      1  2          3      4      5      6   \\\n",
       "0   2023/04/07 5:54:04 am EET  20-25  F      Saudi    0-2  Maybe  Maybe   \n",
       "1  2023/04/07 11:38:47 am EET  20-25  F      Saudi  4-Mar    Yes    Yes   \n",
       "2  2023/04/07 12:20:02 pm EET  20-25  M  Not Saudi    0-2  Maybe    Yes   \n",
       "3  2023/04/07 12:26:21 pm EET  26-30  F      Saudi  4-Mar    Yes    Yes   \n",
       "4  2023/04/07 12:29:23 pm EET  20-25  M      Saudi  4-Mar    Yes     No   \n",
       "\n",
       "      7      8      9      10     11     12     13     14     15     16  \\\n",
       "0  Maybe  Maybe  Maybe  Maybe  Maybe  Maybe  Maybe  Maybe  Maybe  Maybe   \n",
       "1     No  Maybe  Maybe    Yes  Maybe    Yes    Yes    Yes    Yes     No   \n",
       "2     No  Maybe     No    Yes    Yes     No     No     No    Yes    Yes   \n",
       "3    Yes     No    Yes  Maybe    Yes     No     No     No     No    Yes   \n",
       "4    Yes    Yes    Yes    Yes     No    Yes    Yes    Yes    Yes    Yes   \n",
       "\n",
       "      17     18  \n",
       "0  Maybe  Maybe  \n",
       "1    Yes    Yes  \n",
       "2  Maybe  Maybe  \n",
       "3    Yes    Yes  \n",
       "4    Yes    Yes  "
      ]
     },
     "execution_count": 13,
     "metadata": {},
     "output_type": "execute_result"
    }
   ],
   "source": [
    "#final shape of the data \n",
    "df.head()"
   ]
  },
  {
   "cell_type": "markdown",
   "id": "c6667629",
   "metadata": {},
   "source": [
    "##### here we have 5  columns of information about the person and the time he did the surrvey at, and 14 question of the survay data\n",
    "#### the data contains that :\n",
    "\n",
    "0 column : the date and the time that the person answered the questions. (date and time )\n",
    "\n",
    "1 column : the age bin that the specific person lies in. (ordinal)\n",
    "\n",
    "2 column : the gender column. (nominal)\n",
    "\n",
    "3 column : the nationality of the person if he is saudi or not. (nominal)\n",
    "\n",
    "4 column : years of experience of the person. (ordinal)\n",
    "\n",
    "columns from 5 >> 18 : the questions that is the survey about  and  the answers is (Yes,No,Maybe). (nominal)\n"
   ]
  },
  {
   "cell_type": "markdown",
   "id": "1fd06ba4",
   "metadata": {},
   "source": [
    ".--------------------------------------------------------------------."
   ]
  },
  {
   "cell_type": "markdown",
   "id": "0e64516e",
   "metadata": {},
   "source": [
    "## 2- exploring the data (EDA):"
   ]
  },
  {
   "cell_type": "markdown",
   "id": "2eede1b3",
   "metadata": {},
   "source": [
    "####  defining fucntions to help in analysis and summarize the categories:  "
   ]
  },
  {
   "cell_type": "code",
   "execution_count": 14,
   "id": "514e3775",
   "metadata": {},
   "outputs": [],
   "source": [
    "#get probotion function\n",
    "def get_summary(col):\n",
    "    prob = df[col].value_counts()/df[col].count()\n",
    "    return(prob)"
   ]
  },
  {
   "cell_type": "code",
   "execution_count": 15,
   "id": "167220ab",
   "metadata": {},
   "outputs": [],
   "source": [
    "#draw barplot fuchion\n",
    "def draw_plt(col):\n",
    "    fig, ax = plt.subplots()\n",
    "    ax.bar(df[col].value_counts().index, df[col].value_counts().values)"
   ]
  },
  {
   "cell_type": "code",
   "execution_count": 16,
   "id": "861ab88d",
   "metadata": {},
   "outputs": [],
   "source": [
    "#draw a stacked plot for filtering\n",
    "def stacked_filter_plot(df1, label1, df2, label2, col):\n",
    "    fig, ax = plt.subplots()\n",
    "    ax.bar(df1[col].value_counts().index, df1[col].value_counts().values,color='r', label= label1)\n",
    "    ax.bar(df1[col].value_counts().index,  df2[col].value_counts().values, bottom=df1[col].value_counts().values, color='b', label=label2)\n",
    "    ax.legend()"
   ]
  },
  {
   "cell_type": "code",
   "execution_count": 17,
   "id": "b36db88f",
   "metadata": {
    "scrolled": false
   },
   "outputs": [
    {
     "name": "stdout",
     "output_type": "stream",
     "text": [
      "<class 'pandas.core.frame.DataFrame'>\n",
      "RangeIndex: 100 entries, 0 to 99\n",
      "Data columns (total 19 columns):\n",
      " #   Column  Non-Null Count  Dtype \n",
      "---  ------  --------------  ----- \n",
      " 0   0       100 non-null    object\n",
      " 1   1       100 non-null    object\n",
      " 2   2       100 non-null    object\n",
      " 3   3       100 non-null    object\n",
      " 4   4       100 non-null    object\n",
      " 5   5       100 non-null    object\n",
      " 6   6       100 non-null    object\n",
      " 7   7       100 non-null    object\n",
      " 8   8       100 non-null    object\n",
      " 9   9       100 non-null    object\n",
      " 10  10      100 non-null    object\n",
      " 11  11      100 non-null    object\n",
      " 12  12      100 non-null    object\n",
      " 13  13      100 non-null    object\n",
      " 14  14      100 non-null    object\n",
      " 15  15      100 non-null    object\n",
      " 16  16      100 non-null    object\n",
      " 17  17      100 non-null    object\n",
      " 18  18      100 non-null    object\n",
      "dtypes: object(19)\n",
      "memory usage: 15.0+ KB\n"
     ]
    }
   ],
   "source": [
    "#having a general sight on every column in tha data \n",
    "df.info()"
   ]
  },
  {
   "cell_type": "markdown",
   "id": "206c6bf6",
   "metadata": {},
   "source": [
    "#### 2.1 checking the date column :"
   ]
  },
  {
   "cell_type": "code",
   "execution_count": 18,
   "id": "d3f7af3e",
   "metadata": {},
   "outputs": [
    {
     "data": {
      "text/plain": [
       "array(['2023/04/07', '2023/04/08', '2023/04/09', '2023/04/13',\n",
       "       '2023/04/14', '2023/04/15', '2023/04/16'], dtype=object)"
      ]
     },
     "execution_count": 18,
     "metadata": {},
     "output_type": "execute_result"
    }
   ],
   "source": [
    "#unique days that we have \n",
    "df[0].str.split().str[0].unique()"
   ]
  },
  {
   "cell_type": "markdown",
   "id": "8c70f821",
   "metadata": {},
   "source": [
    "the survey has been done  (between 7 april and 16 april) "
   ]
  },
  {
   "cell_type": "markdown",
   "id": "bf97daa8",
   "metadata": {},
   "source": [
    ".-------------------------------------------------------------------------------------------."
   ]
  },
  {
   "cell_type": "markdown",
   "id": "4aed4cd9",
   "metadata": {},
   "source": [
    "#### 2.2 checking age range column:"
   ]
  },
  {
   "cell_type": "code",
   "execution_count": 19,
   "id": "4b1d3a4a",
   "metadata": {},
   "outputs": [
    {
     "data": {
      "text/plain": [
       "31-36 +    60\n",
       "20-25      21\n",
       "26-30      19\n",
       "Name: 1, dtype: int64"
      ]
     },
     "execution_count": 19,
     "metadata": {},
     "output_type": "execute_result"
    }
   ],
   "source": [
    "#count of every value \n",
    "df[1].value_counts()"
   ]
  },
  {
   "cell_type": "code",
   "execution_count": 20,
   "id": "3a663c22",
   "metadata": {
    "scrolled": false
   },
   "outputs": [
    {
     "data": {
      "image/png": "[encoded data removed]",
      "text/plain": [
       "<Figure size 432x288 with 1 Axes>"
      ]
     },
     "metadata": {
      "needs_background": "light"
     },
     "output_type": "display_data"
    }
   ],
   "source": [
    "#barplot of hte count of each value\n",
    "draw_plt(1)"
   ]
  },
  {
   "cell_type": "code",
   "execution_count": 21,
   "id": "ce95618c",
   "metadata": {
    "scrolled": true
   },
   "outputs": [
    {
     "data": {
      "text/plain": [
       "31-36 +    0.60\n",
       "20-25      0.21\n",
       "26-30      0.19\n",
       "Name: 1, dtype: float64"
      ]
     },
     "execution_count": 21,
     "metadata": {},
     "output_type": "execute_result"
    }
   ],
   "source": [
    "#the propotion of every value \n",
    "get_summary(1)"
   ]
  },
  {
   "cell_type": "code",
   "execution_count": 297,
   "id": "67e953d5",
   "metadata": {},
   "outputs": [
    {
     "data": {
      "text/plain": [
       "(2.0412414523193148, 0.0412268333371637)"
      ]
     },
     "execution_count": 297,
     "metadata": {},
     "output_type": "execute_result"
    }
   ],
   "source": [
    "#making test to see if the 31-36+ category if the hieghest propotion in the population\n",
    "stat, p_value = proportions_ztest(count=60, nobs=100, value=.5)\n",
    "stat, p_value"
   ]
  },
  {
   "cell_type": "markdown",
   "id": "102bcee6",
   "metadata": {},
   "source": [
    "- p_val less than significance level so there is enough evidence to conclude that the (31-36) is the bigest category in the population"
   ]
  },
  {
   "cell_type": "code",
   "execution_count": 271,
   "id": "f6c557a6",
   "metadata": {
    "scrolled": true
   },
   "outputs": [
    {
     "data": {
      "text/plain": [
       "(0.5039817664728937, 0.6960182335271062)"
      ]
     },
     "execution_count": 271,
     "metadata": {},
     "output_type": "execute_result"
    }
   ],
   "source": [
    "lower, upper = proportion_confint(count=60, nobs=100, alpha=0.05)\n",
    "lower, upper"
   ]
  },
  {
   "cell_type": "markdown",
   "id": "d4e60289",
   "metadata": {},
   "source": [
    "- with 95% confidince we are sure that propotion of  people in (31-36) is between 50% and 69% of the population"
   ]
  },
  {
   "cell_type": "markdown",
   "id": "2481a444",
   "metadata": {},
   "source": [
    "  *how are males and females distributed over age ?* "
   ]
  },
  {
   "cell_type": "code",
   "execution_count": 244,
   "id": "966493fe",
   "metadata": {},
   "outputs": [],
   "source": [
    "#female and male filters to use them\n",
    "F_filter = df[2] == 'F'\n",
    "M_filter = df[2] == 'M'"
   ]
  },
  {
   "cell_type": "code",
   "execution_count": 245,
   "id": "8448eba1",
   "metadata": {
    "scrolled": true
   },
   "outputs": [
    {
     "data": {
      "text/plain": [
       "31-36 +    29\n",
       "20-25      12\n",
       "26-30      10\n",
       "Name: 1, dtype: int64"
      ]
     },
     "execution_count": 245,
     "metadata": {},
     "output_type": "execute_result"
    }
   ],
   "source": [
    "df[F_filter][1].value_counts()"
   ]
  },
  {
   "cell_type": "code",
   "execution_count": 246,
   "id": "8df9066e",
   "metadata": {},
   "outputs": [
    {
     "data": {
      "text/plain": [
       "31-36 +    31\n",
       "20-25       9\n",
       "26-30       9\n",
       "Name: 1, dtype: int64"
      ]
     },
     "execution_count": 246,
     "metadata": {},
     "output_type": "execute_result"
    }
   ],
   "source": [
    "df[M_filter][1].value_counts()"
   ]
  },
  {
   "cell_type": "markdown",
   "id": "30b4f730",
   "metadata": {},
   "source": [
    "* the biggest bin of age ranges is 31-39+\n",
    "* appears from the sample that the age range bins doesn't affected by males and females \n",
    "\n",
    "\n",
    "\n",
    "**performing a chi2 test :**"
   ]
  },
  {
   "cell_type": "code",
   "execution_count": 28,
   "id": "246b9651",
   "metadata": {
    "scrolled": true
   },
   "outputs": [],
   "source": [
    "#making contengy to perform chisquare\n",
    "con_t = pd.crosstab(df[2],df[1])"
   ]
  },
  {
   "cell_type": "code",
   "execution_count": 298,
   "id": "03148e7f",
   "metadata": {},
   "outputs": [
    {
     "data": {
      "text/plain": [
       "(0.5080729033468023, 0.775663527297582)"
      ]
     },
     "execution_count": 298,
     "metadata": {},
     "output_type": "execute_result"
    }
   ],
   "source": [
    "chi2_stat, p_value, dof, expected_values  = stats.chi2_contingency(con_t)\n",
    "chi2_stat, p_value"
   ]
  },
  {
   "cell_type": "markdown",
   "id": "c7f62832",
   "metadata": {},
   "source": [
    "- p_value is .77 so we fail to reject the Null hypothesis and we conclude that there is no relation between Gender and age "
   ]
  },
  {
   "cell_type": "markdown",
   "id": "a3fa1238",
   "metadata": {},
   "source": [
    "-- **is there a relation between age and  the years of experience ?**"
   ]
  },
  {
   "cell_type": "markdown",
   "id": "91564703",
   "metadata": {},
   "source": [
    "**performing chisquare:**"
   ]
  },
  {
   "cell_type": "code",
   "execution_count": 31,
   "id": "44e2095d",
   "metadata": {
    "scrolled": true
   },
   "outputs": [
    {
     "data": {
      "text/html": [
       "<div>\n",
       "<style scoped>\n",
       "    .dataframe tbody tr th:only-of-type {\n",
       "        vertical-align: middle;\n",
       "    }\n",
       "\n",
       "    .dataframe tbody tr th {\n",
       "        vertical-align: top;\n",
       "    }\n",
       "\n",
       "    .dataframe thead th {\n",
       "        text-align: right;\n",
       "    }\n",
       "</style>\n",
       "<table border=\"1\" class=\"dataframe\">\n",
       "  <thead>\n",
       "    <tr style=\"text-align: right;\">\n",
       "      <th>4</th>\n",
       "      <th>0-2</th>\n",
       "      <th>4-Mar</th>\n",
       "      <th>5-6+</th>\n",
       "    </tr>\n",
       "    <tr>\n",
       "      <th>1</th>\n",
       "      <th></th>\n",
       "      <th></th>\n",
       "      <th></th>\n",
       "    </tr>\n",
       "  </thead>\n",
       "  <tbody>\n",
       "    <tr>\n",
       "      <th>20-25</th>\n",
       "      <td>11</td>\n",
       "      <td>7</td>\n",
       "      <td>3</td>\n",
       "    </tr>\n",
       "    <tr>\n",
       "      <th>26-30</th>\n",
       "      <td>5</td>\n",
       "      <td>9</td>\n",
       "      <td>5</td>\n",
       "    </tr>\n",
       "    <tr>\n",
       "      <th>31-36 +</th>\n",
       "      <td>10</td>\n",
       "      <td>1</td>\n",
       "      <td>49</td>\n",
       "    </tr>\n",
       "  </tbody>\n",
       "</table>\n",
       "</div>"
      ],
      "text/plain": [
       "4        0-2  4-Mar  5-6+\n",
       "1                        \n",
       "20-25     11      7     3\n",
       "26-30      5      9     5\n",
       "31-36 +   10      1    49"
      ]
     },
     "execution_count": 31,
     "metadata": {},
     "output_type": "execute_result"
    }
   ],
   "source": [
    "#contengency table between age and year of experience \n",
    "con_tab = pd.crosstab(df[1],df[4])\n",
    "con_tab"
   ]
  },
  {
   "cell_type": "code",
   "execution_count": 32,
   "id": "ca8390a5",
   "metadata": {},
   "outputs": [],
   "source": [
    "xticks = con_tab.index\n",
    "x = [1,2,3]\n",
    "y = np.array(con_tab)"
   ]
  },
  {
   "cell_type": "code",
   "execution_count": 33,
   "id": "bff8aa5f",
   "metadata": {
    "scrolled": true
   },
   "outputs": [
    {
     "data": {
      "image/png": "[encoded data removed]",
      "text/plain": [
       "<Figure size 576x360 with 1 Axes>"
      ]
     },
     "metadata": {
      "needs_background": "light"
     },
     "output_type": "display_data"
    }
   ],
   "source": [
    "fig, ax = plt.subplots()\n",
    "fig.set_size_inches(8,5)\n",
    "plt.style.use('bmh')\n",
    "ax.bar(x, y[:,2], width=.25, color='tab:blue', label = '5-6')\n",
    "ax.bar(np.array(x)+.25, y[:,0], width=.25, color='tab:green',label = '0-2')\n",
    "ax.bar(np.array(x)+.50, y[:,1], width=.25, color='tab:orange', label = '3-4')\n",
    "ax.legend()\n",
    "ax.set_xlabel('Age range',size=15)\n",
    "ax.set_ylabel('Frequency',size=15,fontsize=15)\n",
    "ax.set_xticks(np.array(x)+.25)\n",
    "ax.set_xticklabels(['20-25','26-30' ,'31-36'],fontsize=15);"
   ]
  },
  {
   "cell_type": "code",
   "execution_count": 34,
   "id": "cb713421",
   "metadata": {},
   "outputs": [
    {
     "data": {
      "text/plain": [
       "(45.79804675616961, 2.7130678813184594e-09)"
      ]
     },
     "execution_count": 34,
     "metadata": {},
     "output_type": "execute_result"
    }
   ],
   "source": [
    "chi2_stat, p_value, dof, expected_values = stats.chi2_contingency(con_tab)\n",
    "chi2_stat, p_value"
   ]
  },
  {
   "cell_type": "markdown",
   "id": "07383b62",
   "metadata": {},
   "source": [
    "P_value is very less than .05 (the level of significane) so we reject the null hypothesis..\n",
    "we can conclude that there is a significant relationship between years of experience and age. "
   ]
  },
  {
   "cell_type": "markdown",
   "id": "c9a2f063",
   "metadata": {},
   "source": [
    "**is there a relation between nationality and age ?**"
   ]
  },
  {
   "cell_type": "code",
   "execution_count": 35,
   "id": "dbea7506",
   "metadata": {},
   "outputs": [
    {
     "data": {
      "text/html": [
       "<div>\n",
       "<style scoped>\n",
       "    .dataframe tbody tr th:only-of-type {\n",
       "        vertical-align: middle;\n",
       "    }\n",
       "\n",
       "    .dataframe tbody tr th {\n",
       "        vertical-align: top;\n",
       "    }\n",
       "\n",
       "    .dataframe thead th {\n",
       "        text-align: right;\n",
       "    }\n",
       "</style>\n",
       "<table border=\"1\" class=\"dataframe\">\n",
       "  <thead>\n",
       "    <tr style=\"text-align: right;\">\n",
       "      <th>1</th>\n",
       "      <th>20-25</th>\n",
       "      <th>26-30</th>\n",
       "      <th>31-36 +</th>\n",
       "    </tr>\n",
       "    <tr>\n",
       "      <th>3</th>\n",
       "      <th></th>\n",
       "      <th></th>\n",
       "      <th></th>\n",
       "    </tr>\n",
       "  </thead>\n",
       "  <tbody>\n",
       "    <tr>\n",
       "      <th>Not Saudi</th>\n",
       "      <td>2</td>\n",
       "      <td>4</td>\n",
       "      <td>3</td>\n",
       "    </tr>\n",
       "    <tr>\n",
       "      <th>Saudi</th>\n",
       "      <td>19</td>\n",
       "      <td>15</td>\n",
       "      <td>57</td>\n",
       "    </tr>\n",
       "  </tbody>\n",
       "</table>\n",
       "</div>"
      ],
      "text/plain": [
       "1          20-25  26-30  31-36 +\n",
       "3                               \n",
       "Not Saudi      2      4        3\n",
       "Saudi         19     15       57"
      ]
     },
     "execution_count": 35,
     "metadata": {},
     "output_type": "execute_result"
    }
   ],
   "source": [
    "pd.crosstab(df[3],df[1])"
   ]
  },
  {
   "cell_type": "code",
   "execution_count": 36,
   "id": "df0e8777",
   "metadata": {},
   "outputs": [
    {
     "data": {
      "text/plain": [
       "(4.549224098096278, 0.10283679633053538)"
      ]
     },
     "execution_count": 36,
     "metadata": {},
     "output_type": "execute_result"
    }
   ],
   "source": [
    "chi2_stat, p_value, dof, expected_values  = stats.chi2_contingency(pd.crosstab(df[3],df[1]))\n",
    "chi2_stat, p_value"
   ]
  },
  {
   "cell_type": "markdown",
   "id": "85a3ac54",
   "metadata": {},
   "source": [
    "P_val is bigger that > level of significance so we don't have enough evidence to reject the Null hypothesis"
   ]
  },
  {
   "cell_type": "markdown",
   "id": "dbdf3b74",
   "metadata": {},
   "source": [
    ".-------------------------------------------------------------------------------------------."
   ]
  },
  {
   "cell_type": "markdown",
   "id": "dd6e0e38",
   "metadata": {},
   "source": [
    "#### 2.3 checking gender column:"
   ]
  },
  {
   "cell_type": "code",
   "execution_count": 37,
   "id": "8b361a5f",
   "metadata": {},
   "outputs": [
    {
     "data": {
      "text/plain": [
       "F    51\n",
       "M    49\n",
       "Name: 2, dtype: int64"
      ]
     },
     "execution_count": 37,
     "metadata": {},
     "output_type": "execute_result"
    }
   ],
   "source": [
    "df[2].value_counts()"
   ]
  },
  {
   "cell_type": "code",
   "execution_count": 38,
   "id": "419e21dc",
   "metadata": {},
   "outputs": [
    {
     "data": {
      "image/png": "[encoded data removed]",
      "text/plain": [
       "<Figure size 432x288 with 1 Axes>"
      ]
     },
     "metadata": {
      "needs_background": "light"
     },
     "output_type": "display_data"
    }
   ],
   "source": [
    "#barplot of each value\n",
    "draw_plt(2)    "
   ]
  },
  {
   "cell_type": "code",
   "execution_count": 39,
   "id": "3bd36f33",
   "metadata": {
    "scrolled": true
   },
   "outputs": [
    {
     "data": {
      "text/plain": [
       "F    0.51\n",
       "M    0.49\n",
       "Name: 2, dtype: float64"
      ]
     },
     "execution_count": 39,
     "metadata": {},
     "output_type": "execute_result"
    }
   ],
   "source": [
    "get_summary(2)"
   ]
  },
  {
   "cell_type": "code",
   "execution_count": 40,
   "id": "fd0c7910",
   "metadata": {},
   "outputs": [],
   "source": [
    "#creating sampling distribution to make confidince  interval of the probotion of males \n",
    "sampling_dist = []\n",
    "\n",
    "for i in range(10000):\n",
    "    sample = df[2].sample(100,replace=True)\n",
    "    prob = sample.replace({'M':1,'F':0}).mean()\n",
    "    sampling_dist.append(prob)\n",
    "    \n"
   ]
  },
  {
   "cell_type": "code",
   "execution_count": 41,
   "id": "7f556ae2",
   "metadata": {},
   "outputs": [
    {
     "data": {
      "image/png": "[encoded data removed]",
      "text/plain": [
       "<Figure size 432x288 with 1 Axes>"
      ]
     },
     "metadata": {
      "needs_background": "light"
     },
     "output_type": "display_data"
    }
   ],
   "source": [
    "plt.hist(sampling_dist)\n",
    "plt.axvline(np.percentile(sampling_dist, 2.5),color='r', linewidth=2);\n",
    "plt.axvline(np.percentile(sampling_dist, 97.5),color='r', linewidth=2);\n",
    "\n"
   ]
  },
  {
   "cell_type": "code",
   "execution_count": 42,
   "id": "9c27646f",
   "metadata": {},
   "outputs": [
    {
     "data": {
      "text/plain": [
       "(0.39, 0.59)"
      ]
     },
     "execution_count": 42,
     "metadata": {},
     "output_type": "execute_result"
    }
   ],
   "source": [
    "#intervals \n",
    "np.percentile(sampling_dist, 2.5), np.percentile(sampling_dist, 97.5)"
   ]
  },
  {
   "cell_type": "markdown",
   "id": "88a7135d",
   "metadata": {},
   "source": [
    "* We are 95% confident that the probotion of males is between 40% and 59% .\n",
    "* The female probotion is between 60% and 39%.\n"
   ]
  },
  {
   "cell_type": "markdown",
   "id": "5454eac1",
   "metadata": {},
   "source": [
    ".-------------------------------------------------------------------------------------------."
   ]
  },
  {
   "cell_type": "markdown",
   "id": "320633b9",
   "metadata": {},
   "source": [
    "#### 2.4 checking Nationality column:"
   ]
  },
  {
   "cell_type": "code",
   "execution_count": 43,
   "id": "3576276e",
   "metadata": {},
   "outputs": [
    {
     "data": {
      "text/plain": [
       "Saudi        91\n",
       "Not Saudi     9\n",
       "Name: 3, dtype: int64"
      ]
     },
     "execution_count": 43,
     "metadata": {},
     "output_type": "execute_result"
    }
   ],
   "source": [
    "#values count\n",
    "df[3].value_counts()"
   ]
  },
  {
   "cell_type": "code",
   "execution_count": 44,
   "id": "a89b2576",
   "metadata": {},
   "outputs": [
    {
     "data": {
      "image/png": "[encoded data removed]",
      "text/plain": [
       "<Figure size 432x288 with 1 Axes>"
      ]
     },
     "metadata": {
      "needs_background": "light"
     },
     "output_type": "display_data"
    }
   ],
   "source": [
    "#barplot of each value\n",
    "draw_plt(3)    "
   ]
  },
  {
   "cell_type": "code",
   "execution_count": 45,
   "id": "275df884",
   "metadata": {},
   "outputs": [
    {
     "data": {
      "text/plain": [
       "Saudi        0.91\n",
       "Not Saudi    0.09\n",
       "Name: 3, dtype: float64"
      ]
     },
     "execution_count": 45,
     "metadata": {},
     "output_type": "execute_result"
    }
   ],
   "source": [
    "#the propotion of each value\n",
    "get_summary(3)"
   ]
  },
  {
   "cell_type": "markdown",
   "id": "6662486b",
   "metadata": {},
   "source": [
    "* more than .90% of the survey are saudis (there are only 9 people of 100 who are Not saudis)"
   ]
  },
  {
   "cell_type": "code",
   "execution_count": 46,
   "id": "5bc53969",
   "metadata": {},
   "outputs": [
    {
     "data": {
      "text/plain": [
       "0.08"
      ]
     },
     "execution_count": 46,
     "metadata": {},
     "output_type": "execute_result"
    }
   ],
   "source": [
    "df[3].sample(100,replace=True).replace({'Saudi':0,'Not Saudi':1}).mean()"
   ]
  },
  {
   "cell_type": "code",
   "execution_count": 47,
   "id": "0bac33c6",
   "metadata": {},
   "outputs": [],
   "source": [
    "sampl_dist = []\n",
    "for i in range(10000):\n",
    "    prob = df[3].sample(100,replace=True).replace({'Saudi':0,'Not Saudi':1}).mean()\n",
    "    sampl_dist.append(prob)"
   ]
  },
  {
   "cell_type": "code",
   "execution_count": 48,
   "id": "ff4610cc",
   "metadata": {},
   "outputs": [
    {
     "data": {
      "image/png": "[encoded data removed]",
      "text/plain": [
       "<Figure size 432x288 with 1 Axes>"
      ]
     },
     "metadata": {
      "needs_background": "light"
     },
     "output_type": "display_data"
    }
   ],
   "source": [
    "plt.hist(sampl_dist)\n",
    "plt.axvline(np.percentile(sampl_dist,2.5),color='r')\n",
    "plt.axvline(np.percentile(sampl_dist,97.5),color='r');"
   ]
  },
  {
   "cell_type": "code",
   "execution_count": 49,
   "id": "8553928f",
   "metadata": {},
   "outputs": [
    {
     "data": {
      "text/plain": [
       "(0.04, 0.15)"
      ]
     },
     "execution_count": 49,
     "metadata": {},
     "output_type": "execute_result"
    }
   ],
   "source": [
    "np.percentile(sampl_dist,2.5), np.percentile(sampl_dist,97.5)"
   ]
  },
  {
   "cell_type": "markdown",
   "id": "c41ceedc",
   "metadata": {},
   "source": [
    "* We are 95% confident that the probotion of Not Saudies is between 4% and 15%.\n",
    "* the probotion of saudies is between %96 and  %85\n",
    "\n"
   ]
  },
  {
   "cell_type": "markdown",
   "id": "597b839c",
   "metadata": {},
   "source": [
    "is there a relation between nationality and gender? "
   ]
  },
  {
   "cell_type": "code",
   "execution_count": 50,
   "id": "a6495023",
   "metadata": {
    "scrolled": false
   },
   "outputs": [
    {
     "data": {
      "text/html": [
       "<div>\n",
       "<style scoped>\n",
       "    .dataframe tbody tr th:only-of-type {\n",
       "        vertical-align: middle;\n",
       "    }\n",
       "\n",
       "    .dataframe tbody tr th {\n",
       "        vertical-align: top;\n",
       "    }\n",
       "\n",
       "    .dataframe thead th {\n",
       "        text-align: right;\n",
       "    }\n",
       "</style>\n",
       "<table border=\"1\" class=\"dataframe\">\n",
       "  <thead>\n",
       "    <tr style=\"text-align: right;\">\n",
       "      <th>3</th>\n",
       "      <th>Not Saudi</th>\n",
       "      <th>Saudi</th>\n",
       "    </tr>\n",
       "    <tr>\n",
       "      <th>2</th>\n",
       "      <th></th>\n",
       "      <th></th>\n",
       "    </tr>\n",
       "  </thead>\n",
       "  <tbody>\n",
       "    <tr>\n",
       "      <th>F</th>\n",
       "      <td>3</td>\n",
       "      <td>48</td>\n",
       "    </tr>\n",
       "    <tr>\n",
       "      <th>M</th>\n",
       "      <td>6</td>\n",
       "      <td>43</td>\n",
       "    </tr>\n",
       "  </tbody>\n",
       "</table>\n",
       "</div>"
      ],
      "text/plain": [
       "3  Not Saudi  Saudi\n",
       "2                  \n",
       "F          3     48\n",
       "M          6     43"
      ]
     },
     "execution_count": 50,
     "metadata": {},
     "output_type": "execute_result"
    }
   ],
   "source": [
    "con_table = pd.crosstab(df[2], df[3])\n",
    "con_table"
   ]
  },
  {
   "cell_type": "markdown",
   "id": "7b90dd7a",
   "metadata": {},
   "source": [
    "H0: p1 - p2 = 0 \n",
    "\n",
    "H1: p1 - p2 != 0"
   ]
  },
  {
   "cell_type": "code",
   "execution_count": 51,
   "id": "39a8ec78",
   "metadata": {},
   "outputs": [],
   "source": [
    "n1, n2, x1, x2 = 9, 90, 3, 47"
   ]
  },
  {
   "cell_type": "code",
   "execution_count": 52,
   "id": "12aacf13",
   "metadata": {},
   "outputs": [
    {
     "data": {
      "text/plain": [
       "(-1.0806460652625112, 0.27985458316245515)"
      ]
     },
     "execution_count": 52,
     "metadata": {},
     "output_type": "execute_result"
    }
   ],
   "source": [
    "prop_diff, p_value = proportions_ztest([x1, x2], [n1, n2])\n",
    "prop_diff, p_value"
   ]
  },
  {
   "cell_type": "markdown",
   "id": "3e39adbe",
   "metadata": {},
   "source": [
    "* P_value is .27 so we fail to reject the Null hypothesis that there is a difference in Saudi and Not saudi probotions between males and females"
   ]
  },
  {
   "cell_type": "markdown",
   "id": "40f5e75d",
   "metadata": {},
   "source": [
    "*  #### //Note: the assumption of the central limit theorm for two probotion are not verified !!"
   ]
  },
  {
   "cell_type": "markdown",
   "id": "f7197f51",
   "metadata": {},
   "source": [
    "\n",
    "* so will try the bootstrap method and see how the distribution will look like:"
   ]
  },
  {
   "cell_type": "code",
   "execution_count": 53,
   "id": "f2319067",
   "metadata": {
    "scrolled": true
   },
   "outputs": [],
   "source": [
    "prob_list = []\n",
    "for i in range(2000):\n",
    "    samdist = df.sample(100,replace=True)\n",
    "    contable = pd.crosstab(samdist[2],samdist[3])\n",
    "    p1 = contable['Not Saudi']['M'] /(contable['Not Saudi']['F'] + contable['Not Saudi']['M'])\n",
    "    p2 = contable['Saudi']['M'] /(contable['Saudi']['F'] + contable['Saudi']['M'])\n",
    "    prob_list.append(p2-p1)\n",
    "    \n",
    "    "
   ]
  },
  {
   "cell_type": "code",
   "execution_count": 54,
   "id": "3f430e73",
   "metadata": {
    "scrolled": true
   },
   "outputs": [
    {
     "data": {
      "text/plain": [
       "<matplotlib.lines.Line2D at 0x1ae6d027f70>"
      ]
     },
     "execution_count": 54,
     "metadata": {},
     "output_type": "execute_result"
    },
    {
     "data": {
      "image/png": "[encoded data removed]",
      "text/plain": [
       "<Figure size 432x288 with 1 Axes>"
      ]
     },
     "metadata": {
      "needs_background": "light"
     },
     "output_type": "display_data"
    }
   ],
   "source": [
    "plt.hist(prob_list)\n",
    "# plt.axvline(np.mean(a),color='r')\n",
    "plt.axvline(np.percentile(prob_list,2.5),color='green')\n",
    "plt.axvline(np.percentile(prob_list,97.5),color='green')"
   ]
  },
  {
   "cell_type": "code",
   "execution_count": 55,
   "id": "f7c4e110",
   "metadata": {},
   "outputs": [
    {
     "data": {
      "text/plain": [
       "(-0.5319322386679001, 0.15530934343434344)"
      ]
     },
     "execution_count": 55,
     "metadata": {},
     "output_type": "execute_result"
    }
   ],
   "source": [
    "np.percentile(prob_list,2.5), np.percentile(prob_list,97.5)"
   ]
  },
  {
   "cell_type": "markdown",
   "id": "22b9a32b",
   "metadata": {},
   "source": [
    "* we see here that  'Zero value' is within the interval \n",
    "* the CLT and Bootstrap led to the same results that  there is no evidence to reject the null which means that with  there is no enough evidence to conclude that there is a difference between the propotions of males in the two categories (saudi, not saudi) ,and so there is no difference in the propotions of females too. \n",
    "* there isnt enough evidence to conclude that there is a relation between the nationality and the gender "
   ]
  },
  {
   "cell_type": "markdown",
   "id": "cdc96553",
   "metadata": {},
   "source": [
    ".-------------------------------------------------------------------------------------------."
   ]
  },
  {
   "cell_type": "markdown",
   "id": "14e7cc13",
   "metadata": {},
   "source": [
    "#### 2.5 checking Years of experience column:"
   ]
  },
  {
   "cell_type": "code",
   "execution_count": 257,
   "id": "76bd4337",
   "metadata": {
    "scrolled": true
   },
   "outputs": [
    {
     "data": {
      "text/plain": [
       "5-6+     57\n",
       "0-2      26\n",
       "4-Mar    17\n",
       "Name: 4, dtype: int64"
      ]
     },
     "execution_count": 257,
     "metadata": {},
     "output_type": "execute_result"
    }
   ],
   "source": [
    "#value_counts\n",
    "df[4].value_counts()"
   ]
  },
  {
   "cell_type": "code",
   "execution_count": 258,
   "id": "afd6065e",
   "metadata": {
    "scrolled": true
   },
   "outputs": [
    {
     "data": {
      "text/plain": [
       "5-6+     57\n",
       "0-2      26\n",
       "4-Mar    17\n",
       "Name: 4, dtype: int64"
      ]
     },
     "execution_count": 258,
     "metadata": {},
     "output_type": "execute_result"
    }
   ],
   "source": [
    "#value_counts\n",
    "df[4].value_counts()"
   ]
  },
  {
   "cell_type": "code",
   "execution_count": 259,
   "id": "8de17396",
   "metadata": {},
   "outputs": [
    {
     "data": {
      "image/png": "[encoded data removed]",
      "text/plain": [
       "<Figure size 432x288 with 1 Axes>"
      ]
     },
     "metadata": {
      "needs_background": "light"
     },
     "output_type": "display_data"
    }
   ],
   "source": [
    "#plotting the values \n",
    "draw_plt(4)"
   ]
  },
  {
   "cell_type": "code",
   "execution_count": 260,
   "id": "4a34a558",
   "metadata": {
    "scrolled": true
   },
   "outputs": [
    {
     "data": {
      "text/plain": [
       "5-6+     0.57\n",
       "0-2      0.26\n",
       "4-Mar    0.17\n",
       "Name: 4, dtype: float64"
      ]
     },
     "execution_count": 260,
     "metadata": {},
     "output_type": "execute_result"
    }
   ],
   "source": [
    "#getting the propotion of each value\n",
    "get_summary(4)"
   ]
  },
  {
   "cell_type": "markdown",
   "id": "f6bb0ada",
   "metadata": {},
   "source": [
    "the most frequent value in the survay is in range (5-6+) and its propotion is approxemately .57"
   ]
  },
  {
   "cell_type": "markdown",
   "id": "a8111ca2",
   "metadata": {},
   "source": [
    "conductiong confidince intervals to try to conclude the propotions in the population:"
   ]
  },
  {
   "cell_type": "code",
   "execution_count": 261,
   "id": "fed6cdb7",
   "metadata": {},
   "outputs": [
    {
     "data": {
      "text/plain": [
       "(0.47296693568931614, 0.6670330643106838)"
      ]
     },
     "execution_count": 261,
     "metadata": {},
     "output_type": "execute_result"
    }
   ],
   "source": [
    "lower, upper = proportion_confint(count=57, nobs=100, alpha=0.05)\n",
    "lower, upper"
   ]
  },
  {
   "cell_type": "code",
   "execution_count": 262,
   "id": "79e5cd23",
   "metadata": {},
   "outputs": [
    {
     "data": {
      "text/plain": [
       "(0.17402926793951617, 0.34597073206048384)"
      ]
     },
     "execution_count": 262,
     "metadata": {},
     "output_type": "execute_result"
    }
   ],
   "source": [
    "lower, upper = proportion_confint(count=26, nobs=100, alpha=0.05)\n",
    "lower, upper"
   ]
  },
  {
   "cell_type": "code",
   "execution_count": 263,
   "id": "d4738ae3",
   "metadata": {},
   "outputs": [
    {
     "data": {
      "text/plain": [
       "(0.09742779990216006, 0.24600654353218337)"
      ]
     },
     "execution_count": 263,
     "metadata": {},
     "output_type": "execute_result"
    }
   ],
   "source": [
    "lower, upper = proportion_confint(count=17, nobs=99, alpha=0.05)\n",
    "lower, upper"
   ]
  },
  {
   "cell_type": "markdown",
   "id": "b4e43ecb",
   "metadata": {},
   "source": [
    "**are there a relationship between Gender and years of experience ?**\n",
    "\n",
    "**performing Chi2 Test:**"
   ]
  },
  {
   "cell_type": "code",
   "execution_count": 64,
   "id": "f6b155f1",
   "metadata": {
    "scrolled": true
   },
   "outputs": [
    {
     "data": {
      "text/plain": [
       "0-2      0.411765\n",
       "5-6+     0.411765\n",
       "4-Mar    0.176471\n",
       "Name: 4, dtype: float64"
      ]
     },
     "execution_count": 64,
     "metadata": {},
     "output_type": "execute_result"
    }
   ],
   "source": [
    "df[F_filter][4].value_counts() / df[F_filter][4].count()"
   ]
  },
  {
   "cell_type": "code",
   "execution_count": 65,
   "id": "4fbb8aee",
   "metadata": {
    "scrolled": true
   },
   "outputs": [
    {
     "data": {
      "text/plain": [
       "5-6+     0.734694\n",
       "4-Mar    0.163265\n",
       "0-2      0.102041\n",
       "Name: 4, dtype: float64"
      ]
     },
     "execution_count": 65,
     "metadata": {},
     "output_type": "execute_result"
    }
   ],
   "source": [
    "df[M_filter][4].value_counts() / df[M_filter][4].count()"
   ]
  },
  {
   "cell_type": "code",
   "execution_count": 66,
   "id": "002f4a86",
   "metadata": {
    "scrolled": true
   },
   "outputs": [
    {
     "data": {
      "text/html": [
       "<div>\n",
       "<style scoped>\n",
       "    .dataframe tbody tr th:only-of-type {\n",
       "        vertical-align: middle;\n",
       "    }\n",
       "\n",
       "    .dataframe tbody tr th {\n",
       "        vertical-align: top;\n",
       "    }\n",
       "\n",
       "    .dataframe thead th {\n",
       "        text-align: right;\n",
       "    }\n",
       "</style>\n",
       "<table border=\"1\" class=\"dataframe\">\n",
       "  <thead>\n",
       "    <tr style=\"text-align: right;\">\n",
       "      <th>4</th>\n",
       "      <th>0-2</th>\n",
       "      <th>4-Mar</th>\n",
       "      <th>5-6+</th>\n",
       "    </tr>\n",
       "    <tr>\n",
       "      <th>2</th>\n",
       "      <th></th>\n",
       "      <th></th>\n",
       "      <th></th>\n",
       "    </tr>\n",
       "  </thead>\n",
       "  <tbody>\n",
       "    <tr>\n",
       "      <th>F</th>\n",
       "      <td>21</td>\n",
       "      <td>9</td>\n",
       "      <td>21</td>\n",
       "    </tr>\n",
       "    <tr>\n",
       "      <th>M</th>\n",
       "      <td>5</td>\n",
       "      <td>8</td>\n",
       "      <td>36</td>\n",
       "    </tr>\n",
       "  </tbody>\n",
       "</table>\n",
       "</div>"
      ],
      "text/plain": [
       "4  0-2  4-Mar  5-6+\n",
       "2                  \n",
       "F   21      9    21\n",
       "M    5      8    36"
      ]
     },
     "execution_count": 66,
     "metadata": {},
     "output_type": "execute_result"
    }
   ],
   "source": [
    "con_tab = pd.crosstab(df[2],df[4])\n",
    "con_tab"
   ]
  },
  {
   "cell_type": "code",
   "execution_count": 67,
   "id": "6857f1a2",
   "metadata": {},
   "outputs": [
    {
     "data": {
      "text/html": [
       "<div>\n",
       "<style scoped>\n",
       "    .dataframe tbody tr th:only-of-type {\n",
       "        vertical-align: middle;\n",
       "    }\n",
       "\n",
       "    .dataframe tbody tr th {\n",
       "        vertical-align: top;\n",
       "    }\n",
       "\n",
       "    .dataframe thead th {\n",
       "        text-align: right;\n",
       "    }\n",
       "</style>\n",
       "<table border=\"1\" class=\"dataframe\">\n",
       "  <thead>\n",
       "    <tr style=\"text-align: right;\">\n",
       "      <th>4</th>\n",
       "      <th>0-2</th>\n",
       "      <th>4-Mar</th>\n",
       "      <th>5-6+</th>\n",
       "    </tr>\n",
       "    <tr>\n",
       "      <th>3</th>\n",
       "      <th></th>\n",
       "      <th></th>\n",
       "      <th></th>\n",
       "    </tr>\n",
       "  </thead>\n",
       "  <tbody>\n",
       "    <tr>\n",
       "      <th>Not Saudi</th>\n",
       "      <td>2</td>\n",
       "      <td>4</td>\n",
       "      <td>3</td>\n",
       "    </tr>\n",
       "    <tr>\n",
       "      <th>Saudi</th>\n",
       "      <td>24</td>\n",
       "      <td>13</td>\n",
       "      <td>54</td>\n",
       "    </tr>\n",
       "  </tbody>\n",
       "</table>\n",
       "</div>"
      ],
      "text/plain": [
       "4          0-2  4-Mar  5-6+\n",
       "3                          \n",
       "Not Saudi    2      4     3\n",
       "Saudi       24     13    54"
      ]
     },
     "execution_count": 67,
     "metadata": {},
     "output_type": "execute_result"
    }
   ],
   "source": [
    "pd.crosstab(df[3],df[4])"
   ]
  },
  {
   "cell_type": "code",
   "execution_count": 68,
   "id": "6b485cb2",
   "metadata": {},
   "outputs": [
    {
     "data": {
      "text/plain": [
       "(5.4080263892123845, 0.06693634441221893)"
      ]
     },
     "execution_count": 68,
     "metadata": {},
     "output_type": "execute_result"
    }
   ],
   "source": [
    "chi2_stat, p_value, dof, expected_values  = stats.chi2_contingency(pd.crosstab(df[3],df[4]))\n",
    "chi2_stat, p_value"
   ]
  },
  {
   "cell_type": "code",
   "execution_count": 69,
   "id": "25a8a46f",
   "metadata": {},
   "outputs": [
    {
     "data": {
      "text/plain": [
       "(13.817872945796562, 0.0009988195034187999)"
      ]
     },
     "execution_count": 69,
     "metadata": {},
     "output_type": "execute_result"
    }
   ],
   "source": [
    "chi2_stat, p_value, dof, expected_values  = stats.chi2_contingency(con_tab)\n",
    "chi2_stat, p_value"
   ]
  },
  {
   "cell_type": "markdown",
   "id": "6da8813c",
   "metadata": {},
   "source": [
    "- P_value is less than .05 there are a relation between Gender and Years of Experience "
   ]
  },
  {
   "cell_type": "markdown",
   "id": "57c7797b",
   "metadata": {},
   "source": [
    " - now will conduct two probotion z test for each years of experience bin:"
   ]
  },
  {
   "cell_type": "code",
   "execution_count": 70,
   "id": "d322c5a2",
   "metadata": {},
   "outputs": [],
   "source": [
    "# 3 categories so we will do b_correction and diveded it by the number of the tests \n",
    "b_correcion = .05/3\n",
    "nF = 50\n",
    "nM = 49 "
   ]
  },
  {
   "cell_type": "code",
   "execution_count": 71,
   "id": "542b00f2",
   "metadata": {},
   "outputs": [
    {
     "data": {
      "text/plain": [
       "(-3.1675746607209394, 0.0015371623432465318)"
      ]
     },
     "execution_count": 71,
     "metadata": {},
     "output_type": "execute_result"
    }
   ],
   "source": [
    "#first test (5-9+ )\n",
    "xF = 21\n",
    "xM = 36\n",
    "\n",
    "prop_diff, p_value = proportions_ztest([xF, xM], [nF, nM])\n",
    "prop_diff, p_value"
   ]
  },
  {
   "cell_type": "markdown",
   "id": "b7f3139c",
   "metadata": {},
   "source": [
    "- since p_value < b_correcion  so there is a difference in probotion between males and females (5-9+) \n",
    "- males are higher "
   ]
  },
  {
   "cell_type": "code",
   "execution_count": 72,
   "id": "d78a1098",
   "metadata": {},
   "outputs": [
    {
     "data": {
      "text/plain": [
       "(0.22074304291732186, 0.8252925146431312)"
      ]
     },
     "execution_count": 72,
     "metadata": {},
     "output_type": "execute_result"
    }
   ],
   "source": [
    "#second test (3-4)\n",
    "xF = 9\n",
    "xM = 8\n",
    "\n",
    "prop_diff, p_value = proportions_ztest([xF, xM], [nF, nM])\n",
    "prop_diff, p_value\n"
   ]
  },
  {
   "cell_type": "markdown",
   "id": "6867a3f3",
   "metadata": {},
   "source": [
    "- p_Values > b_correction so there is no difference in propotions between males and female in that category (3-4)"
   ]
  },
  {
   "cell_type": "code",
   "execution_count": 73,
   "id": "8c8d5da3",
   "metadata": {},
   "outputs": [
    {
     "data": {
      "text/plain": [
       "(3.4117056211592365, 0.000645577906789499)"
      ]
     },
     "execution_count": 73,
     "metadata": {},
     "output_type": "execute_result"
    }
   ],
   "source": [
    "#third test\n",
    "xF = 20\n",
    "xM = 5\n",
    "\n",
    "prop_diff, p_value = proportions_ztest([xF, xM], [nF, nM])\n",
    "prop_diff, p_value\n"
   ]
  },
  {
   "cell_type": "markdown",
   "id": "14cc89e0",
   "metadata": {},
   "source": [
    "- p value is less that b_correction so there is a difference in probotions between males and females in (0-2)\n",
    "- females are higher"
   ]
  },
  {
   "cell_type": "markdown",
   "id": "3e0c9a90",
   "metadata": {},
   "source": [
    "- probotion of males with (5-6+) experience years is higher than females \n",
    "- probotion of females with (0-2) experience years is higher than males \n",
    "- no difference in  probotion of (3-5) between males and females "
   ]
  },
  {
   "cell_type": "markdown",
   "id": "91a9f6c3",
   "metadata": {},
   "source": [
    "--- the propotion of males in in the heighest years of experience category  is bigger than females "
   ]
  },
  {
   "cell_type": "markdown",
   "id": "fd19a95e",
   "metadata": {},
   "source": [
    ".--------------------------------------------------------------------------------------------------------."
   ]
  },
  {
   "cell_type": "code",
   "execution_count": 74,
   "id": "dd0d0e0f",
   "metadata": {},
   "outputs": [
    {
     "data": {
      "text/html": [
       "<div>\n",
       "<style scoped>\n",
       "    .dataframe tbody tr th:only-of-type {\n",
       "        vertical-align: middle;\n",
       "    }\n",
       "\n",
       "    .dataframe tbody tr th {\n",
       "        vertical-align: top;\n",
       "    }\n",
       "\n",
       "    .dataframe thead th {\n",
       "        text-align: right;\n",
       "    }\n",
       "</style>\n",
       "<table border=\"1\" class=\"dataframe\">\n",
       "  <thead>\n",
       "    <tr style=\"text-align: right;\">\n",
       "      <th></th>\n",
       "      <th>0</th>\n",
       "      <th>1</th>\n",
       "      <th>2</th>\n",
       "      <th>3</th>\n",
       "      <th>4</th>\n",
       "      <th>5</th>\n",
       "      <th>6</th>\n",
       "      <th>7</th>\n",
       "      <th>8</th>\n",
       "      <th>9</th>\n",
       "      <th>10</th>\n",
       "      <th>11</th>\n",
       "      <th>12</th>\n",
       "      <th>13</th>\n",
       "      <th>14</th>\n",
       "      <th>15</th>\n",
       "      <th>16</th>\n",
       "      <th>17</th>\n",
       "      <th>18</th>\n",
       "    </tr>\n",
       "  </thead>\n",
       "  <tbody>\n",
       "    <tr>\n",
       "      <th>0</th>\n",
       "      <td>2023/04/07 5:54:04 am EET</td>\n",
       "      <td>20-25</td>\n",
       "      <td>F</td>\n",
       "      <td>Saudi</td>\n",
       "      <td>0-2</td>\n",
       "      <td>Maybe</td>\n",
       "      <td>Maybe</td>\n",
       "      <td>Maybe</td>\n",
       "      <td>Maybe</td>\n",
       "      <td>Maybe</td>\n",
       "      <td>Maybe</td>\n",
       "      <td>Maybe</td>\n",
       "      <td>Maybe</td>\n",
       "      <td>Maybe</td>\n",
       "      <td>Maybe</td>\n",
       "      <td>Maybe</td>\n",
       "      <td>Maybe</td>\n",
       "      <td>Maybe</td>\n",
       "      <td>Maybe</td>\n",
       "    </tr>\n",
       "    <tr>\n",
       "      <th>1</th>\n",
       "      <td>2023/04/07 11:38:47 am EET</td>\n",
       "      <td>20-25</td>\n",
       "      <td>F</td>\n",
       "      <td>Saudi</td>\n",
       "      <td>4-Mar</td>\n",
       "      <td>Yes</td>\n",
       "      <td>Yes</td>\n",
       "      <td>No</td>\n",
       "      <td>Maybe</td>\n",
       "      <td>Maybe</td>\n",
       "      <td>Yes</td>\n",
       "      <td>Maybe</td>\n",
       "      <td>Yes</td>\n",
       "      <td>Yes</td>\n",
       "      <td>Yes</td>\n",
       "      <td>Yes</td>\n",
       "      <td>No</td>\n",
       "      <td>Yes</td>\n",
       "      <td>Yes</td>\n",
       "    </tr>\n",
       "    <tr>\n",
       "      <th>2</th>\n",
       "      <td>2023/04/07 12:20:02 pm EET</td>\n",
       "      <td>20-25</td>\n",
       "      <td>M</td>\n",
       "      <td>Not Saudi</td>\n",
       "      <td>0-2</td>\n",
       "      <td>Maybe</td>\n",
       "      <td>Yes</td>\n",
       "      <td>No</td>\n",
       "      <td>Maybe</td>\n",
       "      <td>No</td>\n",
       "      <td>Yes</td>\n",
       "      <td>Yes</td>\n",
       "      <td>No</td>\n",
       "      <td>No</td>\n",
       "      <td>No</td>\n",
       "      <td>Yes</td>\n",
       "      <td>Yes</td>\n",
       "      <td>Maybe</td>\n",
       "      <td>Maybe</td>\n",
       "    </tr>\n",
       "    <tr>\n",
       "      <th>3</th>\n",
       "      <td>2023/04/07 12:26:21 pm EET</td>\n",
       "      <td>26-30</td>\n",
       "      <td>F</td>\n",
       "      <td>Saudi</td>\n",
       "      <td>4-Mar</td>\n",
       "      <td>Yes</td>\n",
       "      <td>Yes</td>\n",
       "      <td>Yes</td>\n",
       "      <td>No</td>\n",
       "      <td>Yes</td>\n",
       "      <td>Maybe</td>\n",
       "      <td>Yes</td>\n",
       "      <td>No</td>\n",
       "      <td>No</td>\n",
       "      <td>No</td>\n",
       "      <td>No</td>\n",
       "      <td>Yes</td>\n",
       "      <td>Yes</td>\n",
       "      <td>Yes</td>\n",
       "    </tr>\n",
       "    <tr>\n",
       "      <th>4</th>\n",
       "      <td>2023/04/07 12:29:23 pm EET</td>\n",
       "      <td>20-25</td>\n",
       "      <td>M</td>\n",
       "      <td>Saudi</td>\n",
       "      <td>4-Mar</td>\n",
       "      <td>Yes</td>\n",
       "      <td>No</td>\n",
       "      <td>Yes</td>\n",
       "      <td>Yes</td>\n",
       "      <td>Yes</td>\n",
       "      <td>Yes</td>\n",
       "      <td>No</td>\n",
       "      <td>Yes</td>\n",
       "      <td>Yes</td>\n",
       "      <td>Yes</td>\n",
       "      <td>Yes</td>\n",
       "      <td>Yes</td>\n",
       "      <td>Yes</td>\n",
       "      <td>Yes</td>\n",
       "    </tr>\n",
       "  </tbody>\n",
       "</table>\n",
       "</div>"
      ],
      "text/plain": [
       "                           0      1  2          3      4      5      6   \\\n",
       "0   2023/04/07 5:54:04 am EET  20-25  F      Saudi    0-2  Maybe  Maybe   \n",
       "1  2023/04/07 11:38:47 am EET  20-25  F      Saudi  4-Mar    Yes    Yes   \n",
       "2  2023/04/07 12:20:02 pm EET  20-25  M  Not Saudi    0-2  Maybe    Yes   \n",
       "3  2023/04/07 12:26:21 pm EET  26-30  F      Saudi  4-Mar    Yes    Yes   \n",
       "4  2023/04/07 12:29:23 pm EET  20-25  M      Saudi  4-Mar    Yes     No   \n",
       "\n",
       "      7      8      9      10     11     12     13     14     15     16  \\\n",
       "0  Maybe  Maybe  Maybe  Maybe  Maybe  Maybe  Maybe  Maybe  Maybe  Maybe   \n",
       "1     No  Maybe  Maybe    Yes  Maybe    Yes    Yes    Yes    Yes     No   \n",
       "2     No  Maybe     No    Yes    Yes     No     No     No    Yes    Yes   \n",
       "3    Yes     No    Yes  Maybe    Yes     No     No     No     No    Yes   \n",
       "4    Yes    Yes    Yes    Yes     No    Yes    Yes    Yes    Yes    Yes   \n",
       "\n",
       "      17     18  \n",
       "0  Maybe  Maybe  \n",
       "1    Yes    Yes  \n",
       "2  Maybe  Maybe  \n",
       "3    Yes    Yes  \n",
       "4    Yes    Yes  "
      ]
     },
     "execution_count": 74,
     "metadata": {},
     "output_type": "execute_result"
    }
   ],
   "source": [
    "df.head()"
   ]
  },
  {
   "cell_type": "markdown",
   "id": "51448a5f",
   "metadata": {},
   "source": [
    "#### 2.6 the survey questions:"
   ]
  },
  {
   "cell_type": "markdown",
   "id": "b23fa54e",
   "metadata": {},
   "source": [
    "  \n",
    "#### question1)  Is Saudi Post interested in risk management?"
   ]
  },
  {
   "cell_type": "code",
   "execution_count": 75,
   "id": "0a1093e4",
   "metadata": {},
   "outputs": [
    {
     "data": {
      "text/plain": [
       "'هل البريد السعودي مهتم بإدارة المخاطر ؟'"
      ]
     },
     "execution_count": 75,
     "metadata": {},
     "output_type": "execute_result"
    }
   ],
   "source": [
    "df_index['column_name'][5]"
   ]
  },
  {
   "cell_type": "code",
   "execution_count": 76,
   "id": "22ddbe05",
   "metadata": {},
   "outputs": [
    {
     "data": {
      "text/plain": [
       "Maybe    46\n",
       "Yes      41\n",
       "No       13\n",
       "Name: 5, dtype: int64"
      ]
     },
     "execution_count": 76,
     "metadata": {},
     "output_type": "execute_result"
    }
   ],
   "source": [
    "#values count\n",
    "df[5].value_counts()"
   ]
  },
  {
   "cell_type": "code",
   "execution_count": 77,
   "id": "63c573ce",
   "metadata": {
    "scrolled": false
   },
   "outputs": [
    {
     "data": {
      "image/png": "[encoded data removed]",
      "text/plain": [
       "<Figure size 432x288 with 1 Axes>"
      ]
     },
     "metadata": {
      "needs_background": "light"
     },
     "output_type": "display_data"
    }
   ],
   "source": [
    "draw_plt(5)"
   ]
  },
  {
   "cell_type": "markdown",
   "id": "83cbba5a",
   "metadata": {},
   "source": [
    "**chi2 test :**"
   ]
  },
  {
   "cell_type": "code",
   "execution_count": 78,
   "id": "6a270320",
   "metadata": {},
   "outputs": [
    {
     "data": {
      "text/html": [
       "<div>\n",
       "<style scoped>\n",
       "    .dataframe tbody tr th:only-of-type {\n",
       "        vertical-align: middle;\n",
       "    }\n",
       "\n",
       "    .dataframe tbody tr th {\n",
       "        vertical-align: top;\n",
       "    }\n",
       "\n",
       "    .dataframe thead th {\n",
       "        text-align: right;\n",
       "    }\n",
       "</style>\n",
       "<table border=\"1\" class=\"dataframe\">\n",
       "  <thead>\n",
       "    <tr style=\"text-align: right;\">\n",
       "      <th>5</th>\n",
       "      <th>Maybe</th>\n",
       "      <th>No</th>\n",
       "      <th>Yes</th>\n",
       "    </tr>\n",
       "    <tr>\n",
       "      <th>2</th>\n",
       "      <th></th>\n",
       "      <th></th>\n",
       "      <th></th>\n",
       "    </tr>\n",
       "  </thead>\n",
       "  <tbody>\n",
       "    <tr>\n",
       "      <th>F</th>\n",
       "      <td>25</td>\n",
       "      <td>7</td>\n",
       "      <td>19</td>\n",
       "    </tr>\n",
       "    <tr>\n",
       "      <th>M</th>\n",
       "      <td>21</td>\n",
       "      <td>6</td>\n",
       "      <td>22</td>\n",
       "    </tr>\n",
       "  </tbody>\n",
       "</table>\n",
       "</div>"
      ],
      "text/plain": [
       "5  Maybe  No  Yes\n",
       "2                \n",
       "F     25   7   19\n",
       "M     21   6   22"
      ]
     },
     "execution_count": 78,
     "metadata": {},
     "output_type": "execute_result"
    }
   ],
   "source": [
    "pd.crosstab(df[2],df[5])"
   ]
  },
  {
   "cell_type": "code",
   "execution_count": 79,
   "id": "a5e2e8aa",
   "metadata": {},
   "outputs": [
    {
     "data": {
      "text/plain": [
       "(0.6045031602656559, 0.7391520855163008)"
      ]
     },
     "execution_count": 79,
     "metadata": {},
     "output_type": "execute_result"
    }
   ],
   "source": [
    "chi2_stat, p_value, dof, expected_values  = stats.chi2_contingency(pd.crosstab(df[2],df[5]))\n",
    "chi2_stat, p_value"
   ]
  },
  {
   "cell_type": "markdown",
   "id": "0ef14bab",
   "metadata": {},
   "source": [
    "P_value > 0.05 level of significance so there are no relationship between gender the answer of tha question"
   ]
  },
  {
   "cell_type": "markdown",
   "id": "ac6df287",
   "metadata": {},
   "source": [
    "**z_test of probotion of 'No':**"
   ]
  },
  {
   "cell_type": "markdown",
   "id": "ca08b705",
   "metadata": {},
   "source": [
    "h0 = Prob(NO) >= .2\n",
    "\n",
    "h1 = prob(No) < .2\n"
   ]
  },
  {
   "cell_type": "code",
   "execution_count": 80,
   "id": "b3c2fd9a",
   "metadata": {},
   "outputs": [
    {
     "data": {
      "text/plain": [
       "(-2.0235111799858503, 0.04302047210280135)"
      ]
     },
     "execution_count": 80,
     "metadata": {},
     "output_type": "execute_result"
    }
   ],
   "source": [
    "prop_diff, p_value = proportions_ztest(count=13,nobs=99,value=.2)\n",
    "prop_diff, p_value\n"
   ]
  },
  {
   "cell_type": "markdown",
   "id": "717d84ba",
   "metadata": {},
   "source": [
    "p_value is less than .05 (level of significance) so we reject the null hypothesis"
   ]
  },
  {
   "cell_type": "markdown",
   "id": "e94c1180",
   "metadata": {},
   "source": [
    "- we have enough evidence to reject the null hypothesis H0 >= .20 \n",
    "- we have enough evidence to conclude that the population parameter of propotion who answered No is less than .20"
   ]
  },
  {
   "cell_type": "code",
   "execution_count": 81,
   "id": "9253aebf",
   "metadata": {},
   "outputs": [
    {
     "data": {
      "text/plain": [
       "(0.3171124881404219, 0.5111703401424064)"
      ]
     },
     "execution_count": 81,
     "metadata": {},
     "output_type": "execute_result"
    }
   ],
   "source": [
    "#yes intervals\n",
    "lower, upper = proportion_confint(count=41, nobs=99, alpha=0.05)\n",
    "lower, upper"
   ]
  },
  {
   "cell_type": "code",
   "execution_count": 82,
   "id": "5b268ae3",
   "metadata": {},
   "outputs": [
    {
     "data": {
      "text/plain": [
       "(0.3564613941849417, 0.5526295149059673)"
      ]
     },
     "execution_count": 82,
     "metadata": {},
     "output_type": "execute_result"
    }
   ],
   "source": [
    "#maybe intervals \n",
    "lower, upper = proportion_confint(count=45, nobs=99, alpha=0.05)\n",
    "lower, upper"
   ]
  },
  {
   "cell_type": "code",
   "execution_count": 83,
   "id": "91fa2daa",
   "metadata": {},
   "outputs": [
    {
     "data": {
      "text/plain": [
       "(0.06478333391510754, 0.1978429287111551)"
      ]
     },
     "execution_count": 83,
     "metadata": {},
     "output_type": "execute_result"
    }
   ],
   "source": [
    "#no intervals \n",
    "lower, upper = proportion_confint(count=13, nobs=99, alpha=0.05)\n",
    "lower, upper"
   ]
  },
  {
   "cell_type": "markdown",
   "id": "5d110cf2",
   "metadata": {},
   "source": [
    ".--------------------------------------------------------------------------------------------------------."
   ]
  },
  {
   "cell_type": "markdown",
   "id": "dbff6ff7",
   "metadata": {},
   "source": [
    "#### question2)  Are courses or seminars on risk management offered at Saudi Post?"
   ]
  },
  {
   "cell_type": "code",
   "execution_count": 84,
   "id": "1416001a",
   "metadata": {},
   "outputs": [
    {
     "data": {
      "text/plain": [
       "Maybe    47\n",
       "Yes      27\n",
       "No       26\n",
       "Name: 6, dtype: int64"
      ]
     },
     "execution_count": 84,
     "metadata": {},
     "output_type": "execute_result"
    }
   ],
   "source": [
    "#values counts\n",
    "df[6].value_counts()"
   ]
  },
  {
   "cell_type": "code",
   "execution_count": 85,
   "id": "ebdd2526",
   "metadata": {},
   "outputs": [
    {
     "data": {
      "image/png": "[encoded data removed]",
      "text/plain": [
       "<Figure size 432x288 with 1 Axes>"
      ]
     },
     "metadata": {
      "needs_background": "light"
     },
     "output_type": "display_data"
    }
   ],
   "source": [
    "draw_plt(6)"
   ]
  },
  {
   "cell_type": "code",
   "execution_count": 86,
   "id": "9eba7d2c",
   "metadata": {},
   "outputs": [
    {
     "data": {
      "text/plain": [
       "Maybe    0.47\n",
       "Yes      0.27\n",
       "No       0.26\n",
       "Name: 6, dtype: float64"
      ]
     },
     "execution_count": 86,
     "metadata": {},
     "output_type": "execute_result"
    }
   ],
   "source": [
    "get_summary(6)"
   ]
  },
  {
   "cell_type": "code",
   "execution_count": 87,
   "id": "938d968c",
   "metadata": {},
   "outputs": [
    {
     "data": {
      "text/html": [
       "<div>\n",
       "<style scoped>\n",
       "    .dataframe tbody tr th:only-of-type {\n",
       "        vertical-align: middle;\n",
       "    }\n",
       "\n",
       "    .dataframe tbody tr th {\n",
       "        vertical-align: top;\n",
       "    }\n",
       "\n",
       "    .dataframe thead th {\n",
       "        text-align: right;\n",
       "    }\n",
       "</style>\n",
       "<table border=\"1\" class=\"dataframe\">\n",
       "  <thead>\n",
       "    <tr style=\"text-align: right;\">\n",
       "      <th>6</th>\n",
       "      <th>Maybe</th>\n",
       "      <th>No</th>\n",
       "      <th>Yes</th>\n",
       "    </tr>\n",
       "    <tr>\n",
       "      <th>2</th>\n",
       "      <th></th>\n",
       "      <th></th>\n",
       "      <th></th>\n",
       "    </tr>\n",
       "  </thead>\n",
       "  <tbody>\n",
       "    <tr>\n",
       "      <th>F</th>\n",
       "      <td>26</td>\n",
       "      <td>14</td>\n",
       "      <td>11</td>\n",
       "    </tr>\n",
       "    <tr>\n",
       "      <th>M</th>\n",
       "      <td>21</td>\n",
       "      <td>12</td>\n",
       "      <td>16</td>\n",
       "    </tr>\n",
       "  </tbody>\n",
       "</table>\n",
       "</div>"
      ],
      "text/plain": [
       "6  Maybe  No  Yes\n",
       "2                \n",
       "F     26  14   11\n",
       "M     21  12   16"
      ]
     },
     "execution_count": 87,
     "metadata": {},
     "output_type": "execute_result"
    }
   ],
   "source": [
    "pd.crosstab(df[2],df[6])"
   ]
  },
  {
   "cell_type": "code",
   "execution_count": 88,
   "id": "fbc2ea12",
   "metadata": {},
   "outputs": [
    {
     "data": {
      "text/plain": [
       "(1.5723158997490008, 0.45559184370977723)"
      ]
     },
     "execution_count": 88,
     "metadata": {},
     "output_type": "execute_result"
    }
   ],
   "source": [
    "chi2_stat, p_value, dof, expected_values  = stats.chi2_contingency(pd.crosstab(df[2],df[6]))\n",
    "chi2_stat, p_value"
   ]
  },
  {
   "cell_type": "markdown",
   "id": "9164078b",
   "metadata": {},
   "source": [
    "P_value is smaller than .05, \n",
    "\n",
    "\n",
    "so we will conduct two sample propotion z test to make desicion"
   ]
  },
  {
   "cell_type": "markdown",
   "id": "51ac4e9f",
   "metadata": {},
   "source": [
    "- difference in probotions between males and females "
   ]
  },
  {
   "cell_type": "code",
   "execution_count": 89,
   "id": "4daae4d0",
   "metadata": {},
   "outputs": [],
   "source": [
    "# 3 categories so we will do b_correction and diveded it by the number of the tests \n",
    "b_correcion = .05/3\n",
    "nF = 50\n",
    "nM = 49 "
   ]
  },
  {
   "cell_type": "code",
   "execution_count": 90,
   "id": "a4e521fe",
   "metadata": {},
   "outputs": [
    {
     "data": {
      "text/plain": [
       "(-1.18994511964002, 0.23406796298201438)"
      ]
     },
     "execution_count": 90,
     "metadata": {},
     "output_type": "execute_result"
    }
   ],
   "source": [
    "#test one Yes \n",
    "prop_diff, p_value = proportions_ztest([11, 16 ], [nF, nM])\n",
    "prop_diff, p_value"
   ]
  },
  {
   "cell_type": "code",
   "execution_count": 91,
   "id": "3f08feef",
   "metadata": {},
   "outputs": [
    {
     "data": {
      "text/plain": [
       "True"
      ]
     },
     "execution_count": 91,
     "metadata": {},
     "output_type": "execute_result"
    }
   ],
   "source": [
    "p_value > b_correcion"
   ]
  },
  {
   "cell_type": "code",
   "execution_count": 92,
   "id": "dc52e748",
   "metadata": {},
   "outputs": [
    {
     "data": {
      "text/plain": [
       "(0.396812096052203, 0.6915060301555255)"
      ]
     },
     "execution_count": 92,
     "metadata": {},
     "output_type": "execute_result"
    }
   ],
   "source": [
    "#test two  (No)\n",
    "prop_diff, p_value = proportions_ztest([14, 12 ], [nF, nM])\n",
    "prop_diff, p_value"
   ]
  },
  {
   "cell_type": "code",
   "execution_count": 93,
   "id": "bcd9615d",
   "metadata": {},
   "outputs": [
    {
     "data": {
      "text/plain": [
       "True"
      ]
     },
     "execution_count": 93,
     "metadata": {},
     "output_type": "execute_result"
    }
   ],
   "source": [
    "p_value > b_correcion"
   ]
  },
  {
   "cell_type": "code",
   "execution_count": 94,
   "id": "54515590",
   "metadata": {},
   "outputs": [
    {
     "data": {
      "text/plain": [
       "(0.7124522349172305, 0.47618477943935933)"
      ]
     },
     "execution_count": 94,
     "metadata": {},
     "output_type": "execute_result"
    }
   ],
   "source": [
    "#test three (May be) \n",
    "prop_diff, p_value = proportions_ztest([25, 21 ], [nF, nM])\n",
    "prop_diff, p_value"
   ]
  },
  {
   "cell_type": "code",
   "execution_count": 95,
   "id": "7f7a0186",
   "metadata": {},
   "outputs": [
    {
     "data": {
      "text/plain": [
       "True"
      ]
     },
     "execution_count": 95,
     "metadata": {},
     "output_type": "execute_result"
    }
   ],
   "source": [
    "p_value > b_correcion"
   ]
  },
  {
   "cell_type": "markdown",
   "id": "20637b3e",
   "metadata": {},
   "source": [
    "- there is no enough evidence to conclude that there is a difference in propotion of the answer to this question between males and females "
   ]
  },
  {
   "cell_type": "code",
   "execution_count": 96,
   "id": "ef4d9087",
   "metadata": {},
   "outputs": [
    {
     "data": {
      "text/plain": [
       "(0.1829855452491477, 0.35701445475085236)"
      ]
     },
     "execution_count": 96,
     "metadata": {},
     "output_type": "execute_result"
    }
   ],
   "source": [
    "#yes intervals\n",
    "lower, upper = proportion_confint(count=27, nobs=100, alpha=0.05)\n",
    "lower, upper"
   ]
  },
  {
   "cell_type": "code",
   "execution_count": 97,
   "id": "b267a47a",
   "metadata": {},
   "outputs": [
    {
     "data": {
      "text/plain": [
       "(0.17402926793951617, 0.34597073206048384)"
      ]
     },
     "execution_count": 97,
     "metadata": {},
     "output_type": "execute_result"
    }
   ],
   "source": [
    "#No intervals\n",
    "\n",
    "lower, upper = proportion_confint(count=26, nobs=100, alpha=0.05)\n",
    "lower, upper"
   ]
  },
  {
   "cell_type": "code",
   "execution_count": 98,
   "id": "ec183d40",
   "metadata": {},
   "outputs": [
    {
     "data": {
      "text/plain": [
       "(0.37217835657509596, 0.567821643424904)"
      ]
     },
     "execution_count": 98,
     "metadata": {},
     "output_type": "execute_result"
    }
   ],
   "source": [
    "#Maybe intervals\n",
    "\n",
    "lower, upper = proportion_confint(count=47, nobs=100, alpha=0.05)\n",
    "lower, upper"
   ]
  },
  {
   "cell_type": "markdown",
   "id": "9260620e",
   "metadata": {},
   "source": [
    ".--------------------------------------------------------------------------------------------------------."
   ]
  },
  {
   "cell_type": "markdown",
   "id": "5913a0f7",
   "metadata": {},
   "source": [
    "#### question3)  Are there specialists in risk management for information security at Saudi Post?"
   ]
  },
  {
   "cell_type": "code",
   "execution_count": 99,
   "id": "0a48acf7",
   "metadata": {},
   "outputs": [
    {
     "data": {
      "text/plain": [
       "Yes      48\n",
       "Maybe    39\n",
       "No       13\n",
       "Name: 7, dtype: int64"
      ]
     },
     "execution_count": 99,
     "metadata": {},
     "output_type": "execute_result"
    }
   ],
   "source": [
    "#values counts\n",
    "df[7].value_counts()"
   ]
  },
  {
   "cell_type": "code",
   "execution_count": 100,
   "id": "25ad2c2f",
   "metadata": {},
   "outputs": [
    {
     "data": {
      "image/png": "[encoded data removed]",
      "text/plain": [
       "<Figure size 432x288 with 1 Axes>"
      ]
     },
     "metadata": {
      "needs_background": "light"
     },
     "output_type": "display_data"
    }
   ],
   "source": [
    "draw_plt(7)"
   ]
  },
  {
   "cell_type": "code",
   "execution_count": 101,
   "id": "ddf33c2f",
   "metadata": {
    "scrolled": true
   },
   "outputs": [
    {
     "data": {
      "text/plain": [
       "Yes      0.48\n",
       "Maybe    0.39\n",
       "No       0.13\n",
       "Name: 7, dtype: float64"
      ]
     },
     "execution_count": 101,
     "metadata": {},
     "output_type": "execute_result"
    }
   ],
   "source": [
    "get_summary(7)"
   ]
  },
  {
   "cell_type": "code",
   "execution_count": 102,
   "id": "91e8d324",
   "metadata": {},
   "outputs": [
    {
     "data": {
      "text/plain": [
       "(1.6273175937041482, 0.443233394914188)"
      ]
     },
     "execution_count": 102,
     "metadata": {},
     "output_type": "execute_result"
    }
   ],
   "source": [
    "chi2_stat, p_value, dof, expected_values  = stats.chi2_contingency(pd.crosstab(df[2],df[7]))\n",
    "chi2_stat, p_value"
   ]
  },
  {
   "cell_type": "markdown",
   "id": "df3422c9",
   "metadata": {},
   "source": [
    "p_value > 0.05 level of significance so we fail to reject the null hypothesis "
   ]
  },
  {
   "cell_type": "code",
   "execution_count": 103,
   "id": "392dcdb4",
   "metadata": {
    "scrolled": true
   },
   "outputs": [
    {
     "data": {
      "text/plain": [
       "Yes      48\n",
       "Maybe    39\n",
       "No       13\n",
       "Name: 7, dtype: int64"
      ]
     },
     "execution_count": 103,
     "metadata": {},
     "output_type": "execute_result"
    }
   ],
   "source": [
    "df[7].value_counts()"
   ]
  },
  {
   "cell_type": "code",
   "execution_count": 104,
   "id": "b3eec8d3",
   "metadata": {},
   "outputs": [
    {
     "data": {
      "text/html": [
       "<div>\n",
       "<style scoped>\n",
       "    .dataframe tbody tr th:only-of-type {\n",
       "        vertical-align: middle;\n",
       "    }\n",
       "\n",
       "    .dataframe tbody tr th {\n",
       "        vertical-align: top;\n",
       "    }\n",
       "\n",
       "    .dataframe thead th {\n",
       "        text-align: right;\n",
       "    }\n",
       "</style>\n",
       "<table border=\"1\" class=\"dataframe\">\n",
       "  <thead>\n",
       "    <tr style=\"text-align: right;\">\n",
       "      <th>7</th>\n",
       "      <th>Maybe</th>\n",
       "      <th>No</th>\n",
       "      <th>Yes</th>\n",
       "    </tr>\n",
       "    <tr>\n",
       "      <th>2</th>\n",
       "      <th></th>\n",
       "      <th></th>\n",
       "      <th></th>\n",
       "    </tr>\n",
       "  </thead>\n",
       "  <tbody>\n",
       "    <tr>\n",
       "      <th>F</th>\n",
       "      <td>23</td>\n",
       "      <td>6</td>\n",
       "      <td>22</td>\n",
       "    </tr>\n",
       "    <tr>\n",
       "      <th>M</th>\n",
       "      <td>16</td>\n",
       "      <td>7</td>\n",
       "      <td>26</td>\n",
       "    </tr>\n",
       "  </tbody>\n",
       "</table>\n",
       "</div>"
      ],
      "text/plain": [
       "7  Maybe  No  Yes\n",
       "2                \n",
       "F     23   6   22\n",
       "M     16   7   26"
      ]
     },
     "execution_count": 104,
     "metadata": {},
     "output_type": "execute_result"
    }
   ],
   "source": [
    "pd.crosstab(df[2], df[7])"
   ]
  },
  {
   "cell_type": "code",
   "execution_count": 105,
   "id": "9d3943f3",
   "metadata": {},
   "outputs": [],
   "source": [
    "# 3 categories so we will do b_correction and diveded it by the number of the tests \n",
    "b_correcion = .05/3\n",
    "nF = 50\n",
    "nM = 49 "
   ]
  },
  {
   "cell_type": "code",
   "execution_count": 106,
   "id": "d63258d9",
   "metadata": {},
   "outputs": [
    {
     "data": {
      "text/plain": [
       "(-0.9019486706913122, 0.3670841351310027)"
      ]
     },
     "execution_count": 106,
     "metadata": {},
     "output_type": "execute_result"
    }
   ],
   "source": [
    "#test one Yes \n",
    "prop_diff, p_value = proportions_ztest([22, 26 ], [nF, nM])\n",
    "prop_diff, p_value"
   ]
  },
  {
   "cell_type": "code",
   "execution_count": 107,
   "id": "f2b48bf2",
   "metadata": {},
   "outputs": [
    {
     "data": {
      "text/plain": [
       "False"
      ]
     },
     "execution_count": 107,
     "metadata": {},
     "output_type": "execute_result"
    }
   ],
   "source": [
    "b_correcion > p_value"
   ]
  },
  {
   "cell_type": "code",
   "execution_count": 108,
   "id": "f7166e5d",
   "metadata": {},
   "outputs": [
    {
     "data": {
      "text/plain": [
       "(-0.33666787698230277, 0.7363672815462556)"
      ]
     },
     "execution_count": 108,
     "metadata": {},
     "output_type": "execute_result"
    }
   ],
   "source": [
    "#test one No \n",
    "prop_diff, p_value = proportions_ztest([6, 7], [nF, nM])\n",
    "prop_diff, p_value"
   ]
  },
  {
   "cell_type": "code",
   "execution_count": 109,
   "id": "331fef3e",
   "metadata": {},
   "outputs": [
    {
     "data": {
      "text/plain": [
       "False"
      ]
     },
     "execution_count": 109,
     "metadata": {},
     "output_type": "execute_result"
    }
   ],
   "source": [
    "b_correcion > p_value"
   ]
  },
  {
   "cell_type": "code",
   "execution_count": 110,
   "id": "703fa54b",
   "metadata": {},
   "outputs": [
    {
     "data": {
      "text/plain": [
       "(1.1607070845238319, 0.24576103980204977)"
      ]
     },
     "execution_count": 110,
     "metadata": {},
     "output_type": "execute_result"
    }
   ],
   "source": [
    "#test one Maybe \n",
    "prop_diff, p_value = proportions_ztest([22, 16], [nF, nM])\n",
    "prop_diff, p_value"
   ]
  },
  {
   "cell_type": "markdown",
   "id": "b180ae5e",
   "metadata": {},
   "source": [
    "- we don't have enough evidence to reject the null hypothesis \n",
    "- there is no difference between answers of males and females to this question "
   ]
  },
  {
   "cell_type": "code",
   "execution_count": 111,
   "id": "92671f59",
   "metadata": {},
   "outputs": [
    {
     "data": {
      "text/plain": [
       "(0.3864018204404037, 0.583295149256566)"
      ]
     },
     "execution_count": 111,
     "metadata": {},
     "output_type": "execute_result"
    }
   ],
   "source": [
    "#yes intervals\n",
    "lower, upper = proportion_confint(count=48, nobs=99, alpha=0.05)\n",
    "lower, upper"
   ]
  },
  {
   "cell_type": "code",
   "execution_count": 112,
   "id": "1b82cb6d",
   "metadata": {},
   "outputs": [
    {
     "data": {
      "text/plain": [
       "(0.06478333391510754, 0.1978429287111551)"
      ]
     },
     "execution_count": 112,
     "metadata": {},
     "output_type": "execute_result"
    }
   ],
   "source": [
    "#no intervals\n",
    "lower, upper = proportion_confint(count=13, nobs=99, alpha=0.05)\n",
    "lower, upper"
   ]
  },
  {
   "cell_type": "code",
   "execution_count": 113,
   "id": "bf664dd7",
   "metadata": {},
   "outputs": [
    {
     "data": {
      "text/plain": [
       "(0.28804136043300554, 0.4796354072437621)"
      ]
     },
     "execution_count": 113,
     "metadata": {},
     "output_type": "execute_result"
    }
   ],
   "source": [
    "#maybe intervals\n",
    "lower, upper = proportion_confint(count=38, nobs=99, alpha=0.05)\n",
    "lower, upper"
   ]
  },
  {
   "cell_type": "code",
   "execution_count": null,
   "id": "ac516580",
   "metadata": {},
   "outputs": [],
   "source": []
  },
  {
   "cell_type": "markdown",
   "id": "0525c43c",
   "metadata": {},
   "source": [
    ".--------------------------------------------------------------------------------------------------------."
   ]
  },
  {
   "cell_type": "markdown",
   "id": "74370275",
   "metadata": {},
   "source": [
    "#### question4)  Is there any difficulty in applying the risk management plan in Saudi Post?\n"
   ]
  },
  {
   "cell_type": "code",
   "execution_count": 114,
   "id": "3e39c404",
   "metadata": {},
   "outputs": [
    {
     "data": {
      "text/plain": [
       "Maybe    40\n",
       "No       40\n",
       "Yes      20\n",
       "Name: 8, dtype: int64"
      ]
     },
     "execution_count": 114,
     "metadata": {},
     "output_type": "execute_result"
    }
   ],
   "source": [
    "#values counts\n",
    "df[8].value_counts()"
   ]
  },
  {
   "cell_type": "code",
   "execution_count": 115,
   "id": "bc793937",
   "metadata": {},
   "outputs": [
    {
     "data": {
      "image/png": "[encoded data removed]",
      "text/plain": [
       "<Figure size 432x288 with 1 Axes>"
      ]
     },
     "metadata": {
      "needs_background": "light"
     },
     "output_type": "display_data"
    }
   ],
   "source": [
    "draw_plt(8)"
   ]
  },
  {
   "cell_type": "code",
   "execution_count": 116,
   "id": "4323d15b",
   "metadata": {
    "scrolled": true
   },
   "outputs": [
    {
     "data": {
      "text/plain": [
       "Maybe    0.4\n",
       "No       0.4\n",
       "Yes      0.2\n",
       "Name: 8, dtype: float64"
      ]
     },
     "execution_count": 116,
     "metadata": {},
     "output_type": "execute_result"
    }
   ],
   "source": [
    "get_summary(8)"
   ]
  },
  {
   "cell_type": "code",
   "execution_count": 117,
   "id": "5850b7be",
   "metadata": {},
   "outputs": [
    {
     "data": {
      "text/plain": [
       "(6.862745098039215, 0.03234251860187863)"
      ]
     },
     "execution_count": 117,
     "metadata": {},
     "output_type": "execute_result"
    }
   ],
   "source": [
    "chi2_stat, p_value, dof, expected_values  = stats.chi2_contingency(pd.crosstab(df[2],df[8]))\n",
    "chi2_stat, p_value"
   ]
  },
  {
   "cell_type": "code",
   "execution_count": 118,
   "id": "de9bd063",
   "metadata": {},
   "outputs": [
    {
     "data": {
      "text/html": [
       "<div>\n",
       "<style scoped>\n",
       "    .dataframe tbody tr th:only-of-type {\n",
       "        vertical-align: middle;\n",
       "    }\n",
       "\n",
       "    .dataframe tbody tr th {\n",
       "        vertical-align: top;\n",
       "    }\n",
       "\n",
       "    .dataframe thead th {\n",
       "        text-align: right;\n",
       "    }\n",
       "</style>\n",
       "<table border=\"1\" class=\"dataframe\">\n",
       "  <thead>\n",
       "    <tr style=\"text-align: right;\">\n",
       "      <th>8</th>\n",
       "      <th>Maybe</th>\n",
       "      <th>No</th>\n",
       "      <th>Yes</th>\n",
       "    </tr>\n",
       "    <tr>\n",
       "      <th>2</th>\n",
       "      <th></th>\n",
       "      <th></th>\n",
       "      <th></th>\n",
       "    </tr>\n",
       "  </thead>\n",
       "  <tbody>\n",
       "    <tr>\n",
       "      <th>F</th>\n",
       "      <td>26</td>\n",
       "      <td>19</td>\n",
       "      <td>6</td>\n",
       "    </tr>\n",
       "    <tr>\n",
       "      <th>M</th>\n",
       "      <td>14</td>\n",
       "      <td>21</td>\n",
       "      <td>14</td>\n",
       "    </tr>\n",
       "  </tbody>\n",
       "</table>\n",
       "</div>"
      ],
      "text/plain": [
       "8  Maybe  No  Yes\n",
       "2                \n",
       "F     26  19    6\n",
       "M     14  21   14"
      ]
     },
     "execution_count": 118,
     "metadata": {},
     "output_type": "execute_result"
    }
   ],
   "source": [
    "pd.crosstab(df[2],df[8])"
   ]
  },
  {
   "cell_type": "code",
   "execution_count": 119,
   "id": "660dba93",
   "metadata": {},
   "outputs": [
    {
     "data": {
      "text/plain": [
       "(-2.05320373310109, 0.04005282252296393)"
      ]
     },
     "execution_count": 119,
     "metadata": {},
     "output_type": "execute_result"
    }
   ],
   "source": [
    "#test one Yes \n",
    "prop_diff, p_value = proportions_ztest([6, 14 ], [nF, nM])\n",
    "prop_diff, p_value"
   ]
  },
  {
   "cell_type": "code",
   "execution_count": 120,
   "id": "de412011",
   "metadata": {},
   "outputs": [
    {
     "data": {
      "text/plain": [
       "(1.4491963970114963, 0.1472827434453312)"
      ]
     },
     "execution_count": 120,
     "metadata": {},
     "output_type": "execute_result"
    }
   ],
   "source": [
    "#test two No \n",
    "prop_diff, p_value = proportions_ztest([19, 12 ], [nF, nM])\n",
    "prop_diff, p_value"
   ]
  },
  {
   "cell_type": "code",
   "execution_count": 121,
   "id": "0799d8bd",
   "metadata": {},
   "outputs": [
    {
     "data": {
      "text/plain": [
       "(2.181654277060274, 0.029135057809874708)"
      ]
     },
     "execution_count": 121,
     "metadata": {},
     "output_type": "execute_result"
    }
   ],
   "source": [
    "#test two maybe\n",
    "prop_diff, p_value = proportions_ztest([25, 14 ], [nF, nM])\n",
    "prop_diff, p_value"
   ]
  },
  {
   "cell_type": "markdown",
   "id": "2d4523f5",
   "metadata": {},
   "source": [
    "- no enough evidence to reject the null "
   ]
  },
  {
   "cell_type": "code",
   "execution_count": 122,
   "id": "9c965a19",
   "metadata": {},
   "outputs": [
    {
     "data": {
      "text/plain": [
       "Maybe    40\n",
       "No       40\n",
       "Yes      20\n",
       "Name: 8, dtype: int64"
      ]
     },
     "execution_count": 122,
     "metadata": {},
     "output_type": "execute_result"
    }
   ],
   "source": [
    "df[8].value_counts()"
   ]
  },
  {
   "cell_type": "code",
   "execution_count": 123,
   "id": "41475ba8",
   "metadata": {},
   "outputs": [
    {
     "data": {
      "text/plain": [
       "(0.12160144061839782, 0.2783985593816022)"
      ]
     },
     "execution_count": 123,
     "metadata": {},
     "output_type": "execute_result"
    }
   ],
   "source": [
    "#yes intervals\n",
    "lower, upper = proportion_confint(count=20, nobs=100, alpha=0.05)\n",
    "lower, upper"
   ]
  },
  {
   "cell_type": "code",
   "execution_count": 124,
   "id": "5ca7dbf7",
   "metadata": {},
   "outputs": [
    {
     "data": {
      "text/plain": [
       "(0.3039817664728938, 0.4960182335271062)"
      ]
     },
     "execution_count": 124,
     "metadata": {},
     "output_type": "execute_result"
    }
   ],
   "source": [
    "#maybervals\n",
    "lower, upper = proportion_confint(count=40, nobs=100, alpha=0.05)\n",
    "lower, upper"
   ]
  },
  {
   "cell_type": "code",
   "execution_count": 125,
   "id": "9b881a93",
   "metadata": {},
   "outputs": [
    {
     "data": {
      "text/plain": [
       "(0.3039817664728938, 0.4960182335271062)"
      ]
     },
     "execution_count": 125,
     "metadata": {},
     "output_type": "execute_result"
    }
   ],
   "source": [
    "#no intervals\n",
    "lower, upper = proportion_confint(count=40, nobs=100, alpha=0.05)\n",
    "lower, upper"
   ]
  },
  {
   "cell_type": "markdown",
   "id": "54ef6f0d",
   "metadata": {},
   "source": [
    ".--------------------------------------------------------------------------------------------------------."
   ]
  },
  {
   "cell_type": "markdown",
   "id": "485ad8dc",
   "metadata": {},
   "source": [
    "#### question5)  Did risk management provide smoothness in logistics services at Saudi Post?\n"
   ]
  },
  {
   "cell_type": "code",
   "execution_count": 126,
   "id": "184865a2",
   "metadata": {},
   "outputs": [
    {
     "data": {
      "text/plain": [
       "Maybe    44\n",
       "Yes      34\n",
       "No       22\n",
       "Name: 9, dtype: int64"
      ]
     },
     "execution_count": 126,
     "metadata": {},
     "output_type": "execute_result"
    }
   ],
   "source": [
    "#values counts\n",
    "df[9].value_counts()"
   ]
  },
  {
   "cell_type": "code",
   "execution_count": 127,
   "id": "ca43d3fa",
   "metadata": {},
   "outputs": [
    {
     "data": {
      "image/png": "[encoded data removed]",
      "text/plain": [
       "<Figure size 432x288 with 1 Axes>"
      ]
     },
     "metadata": {
      "needs_background": "light"
     },
     "output_type": "display_data"
    }
   ],
   "source": [
    "draw_plt(9)"
   ]
  },
  {
   "cell_type": "code",
   "execution_count": 128,
   "id": "6f4c9bc2",
   "metadata": {
    "scrolled": false
   },
   "outputs": [
    {
     "data": {
      "text/plain": [
       "Maybe    0.44\n",
       "Yes      0.34\n",
       "No       0.22\n",
       "Name: 9, dtype: float64"
      ]
     },
     "execution_count": 128,
     "metadata": {},
     "output_type": "execute_result"
    }
   ],
   "source": [
    "get_summary(9)"
   ]
  },
  {
   "cell_type": "code",
   "execution_count": 129,
   "id": "8f192655",
   "metadata": {},
   "outputs": [
    {
     "data": {
      "text/html": [
       "<div>\n",
       "<style scoped>\n",
       "    .dataframe tbody tr th:only-of-type {\n",
       "        vertical-align: middle;\n",
       "    }\n",
       "\n",
       "    .dataframe tbody tr th {\n",
       "        vertical-align: top;\n",
       "    }\n",
       "\n",
       "    .dataframe thead th {\n",
       "        text-align: right;\n",
       "    }\n",
       "</style>\n",
       "<table border=\"1\" class=\"dataframe\">\n",
       "  <thead>\n",
       "    <tr style=\"text-align: right;\">\n",
       "      <th>9</th>\n",
       "      <th>Maybe</th>\n",
       "      <th>No</th>\n",
       "      <th>Yes</th>\n",
       "    </tr>\n",
       "    <tr>\n",
       "      <th>2</th>\n",
       "      <th></th>\n",
       "      <th></th>\n",
       "      <th></th>\n",
       "    </tr>\n",
       "  </thead>\n",
       "  <tbody>\n",
       "    <tr>\n",
       "      <th>F</th>\n",
       "      <td>26</td>\n",
       "      <td>9</td>\n",
       "      <td>16</td>\n",
       "    </tr>\n",
       "    <tr>\n",
       "      <th>M</th>\n",
       "      <td>18</td>\n",
       "      <td>13</td>\n",
       "      <td>18</td>\n",
       "    </tr>\n",
       "  </tbody>\n",
       "</table>\n",
       "</div>"
      ],
      "text/plain": [
       "9  Maybe  No  Yes\n",
       "2                \n",
       "F     26   9   16\n",
       "M     18  13   18"
      ]
     },
     "execution_count": 129,
     "metadata": {},
     "output_type": "execute_result"
    }
   ],
   "source": [
    "pd.crosstab(df[2],df[9])"
   ]
  },
  {
   "cell_type": "code",
   "execution_count": 130,
   "id": "32f20489",
   "metadata": {},
   "outputs": [
    {
     "data": {
      "text/plain": [
       "(2.26036938839707, 0.32297359956316535)"
      ]
     },
     "execution_count": 130,
     "metadata": {},
     "output_type": "execute_result"
    }
   ],
   "source": [
    "chi2_stat, p_value, dof, expected_values  = stats.chi2_contingency(pd.crosstab(df[2],df[9]))\n",
    "chi2_stat, p_value"
   ]
  },
  {
   "cell_type": "code",
   "execution_count": 131,
   "id": "47c35569",
   "metadata": {},
   "outputs": [],
   "source": [
    "b_cor = .05 / 3 \n"
   ]
  },
  {
   "cell_type": "code",
   "execution_count": 132,
   "id": "ba66cd66",
   "metadata": {},
   "outputs": [
    {
     "data": {
      "text/plain": [
       "(-0.4960168243105033, 0.6198825408603442)"
      ]
     },
     "execution_count": 132,
     "metadata": {},
     "output_type": "execute_result"
    }
   ],
   "source": [
    "#test one Yes \n",
    "prop_diff, p_value = proportions_ztest([16, 18 ], [nF, nM])\n",
    "prop_diff, p_value"
   ]
  },
  {
   "cell_type": "code",
   "execution_count": 133,
   "id": "ee813925",
   "metadata": {},
   "outputs": [
    {
     "data": {
      "text/plain": [
       "(-1.0207611634313287, 0.3073676085383208)"
      ]
     },
     "execution_count": 133,
     "metadata": {},
     "output_type": "execute_result"
    }
   ],
   "source": [
    "#test no Yes \n",
    "prop_diff, p_value = proportions_ztest([9, 13 ], [nF, nM])\n",
    "prop_diff, p_value"
   ]
  },
  {
   "cell_type": "code",
   "execution_count": 134,
   "id": "5ec4ced9",
   "metadata": {},
   "outputs": [
    {
     "data": {
      "text/plain": [
       "(1.3313421282672429, 0.18307646221446106)"
      ]
     },
     "execution_count": 134,
     "metadata": {},
     "output_type": "execute_result"
    }
   ],
   "source": [
    "#test three maybe \n",
    "prop_diff, p_value = proportions_ztest([25, 18 ], [nF, nM])\n",
    "prop_diff, p_value"
   ]
  },
  {
   "cell_type": "markdown",
   "id": "c7787b0b",
   "metadata": {},
   "source": [
    "- there is no enough evidence to reject the null "
   ]
  },
  {
   "cell_type": "code",
   "execution_count": 135,
   "id": "1232eac5",
   "metadata": {},
   "outputs": [
    {
     "data": {
      "text/plain": [
       "Maybe    44\n",
       "Yes      34\n",
       "No       22\n",
       "Name: 9, dtype: int64"
      ]
     },
     "execution_count": 135,
     "metadata": {},
     "output_type": "execute_result"
    }
   ],
   "source": [
    "df[9].value_counts()"
   ]
  },
  {
   "cell_type": "code",
   "execution_count": 136,
   "id": "1846f666",
   "metadata": {},
   "outputs": [
    {
     "data": {
      "text/plain": [
       "(0.2471547869104841, 0.43284521308951596)"
      ]
     },
     "execution_count": 136,
     "metadata": {},
     "output_type": "execute_result"
    }
   ],
   "source": [
    "#yes intervals\n",
    "lower, upper = proportion_confint(count=34, nobs=100, alpha=0.05)\n",
    "lower, upper"
   ]
  },
  {
   "cell_type": "code",
   "execution_count": 137,
   "id": "453f4c27",
   "metadata": {},
   "outputs": [
    {
     "data": {
      "text/plain": [
       "(0.13880921643246003, 0.30119078356754)"
      ]
     },
     "execution_count": 137,
     "metadata": {},
     "output_type": "execute_result"
    }
   ],
   "source": [
    "#No intervals\n",
    "lower, upper = proportion_confint(count=22, nobs=100, alpha=0.05)\n",
    "lower, upper"
   ]
  },
  {
   "cell_type": "code",
   "execution_count": 138,
   "id": "84e0709f",
   "metadata": {},
   "outputs": [
    {
     "data": {
      "text/plain": [
       "(0.34270994637584823, 0.5372900536241518)"
      ]
     },
     "execution_count": 138,
     "metadata": {},
     "output_type": "execute_result"
    }
   ],
   "source": [
    "#Maybe intervals\n",
    "lower, upper = proportion_confint(count=44, nobs=100, alpha=0.05)\n",
    "lower, upper"
   ]
  },
  {
   "cell_type": "markdown",
   "id": "af10e5e3",
   "metadata": {},
   "source": [
    ".--------------------------------------------------------------------------------------------------------."
   ]
  },
  {
   "cell_type": "markdown",
   "id": "c2077548",
   "metadata": {},
   "source": [
    "#### question6)  Does the application of risk management in Saudi Post enhance the professionalism of the logistics process?\n"
   ]
  },
  {
   "cell_type": "code",
   "execution_count": 139,
   "id": "680ef1f2",
   "metadata": {},
   "outputs": [
    {
     "data": {
      "text/plain": [
       "Maybe    46\n",
       "Yes      41\n",
       "No       13\n",
       "Name: 10, dtype: int64"
      ]
     },
     "execution_count": 139,
     "metadata": {},
     "output_type": "execute_result"
    }
   ],
   "source": [
    "#values counts\n",
    "df[10].value_counts()"
   ]
  },
  {
   "cell_type": "code",
   "execution_count": 140,
   "id": "992abcb8",
   "metadata": {},
   "outputs": [
    {
     "data": {
      "image/png": "[encoded data removed]",
      "text/plain": [
       "<Figure size 432x288 with 1 Axes>"
      ]
     },
     "metadata": {
      "needs_background": "light"
     },
     "output_type": "display_data"
    }
   ],
   "source": [
    "draw_plt(10)"
   ]
  },
  {
   "cell_type": "code",
   "execution_count": 141,
   "id": "21504fca",
   "metadata": {
    "scrolled": true
   },
   "outputs": [
    {
     "data": {
      "text/plain": [
       "Maybe    0.46\n",
       "Yes      0.41\n",
       "No       0.13\n",
       "Name: 10, dtype: float64"
      ]
     },
     "execution_count": 141,
     "metadata": {},
     "output_type": "execute_result"
    }
   ],
   "source": [
    "get_summary(10)"
   ]
  },
  {
   "cell_type": "code",
   "execution_count": 142,
   "id": "0d17aaea",
   "metadata": {},
   "outputs": [
    {
     "data": {
      "text/plain": [
       "(2.264029847194608, 0.32238302439509203)"
      ]
     },
     "execution_count": 142,
     "metadata": {},
     "output_type": "execute_result"
    }
   ],
   "source": [
    "chi2_stat, p_value, dof, expected_values  = stats.chi2_contingency(pd.crosstab(df[2],df[10]))\n",
    "chi2_stat, p_value"
   ]
  },
  {
   "cell_type": "code",
   "execution_count": 143,
   "id": "00341da8",
   "metadata": {},
   "outputs": [
    {
     "data": {
      "text/html": [
       "<div>\n",
       "<style scoped>\n",
       "    .dataframe tbody tr th:only-of-type {\n",
       "        vertical-align: middle;\n",
       "    }\n",
       "\n",
       "    .dataframe tbody tr th {\n",
       "        vertical-align: top;\n",
       "    }\n",
       "\n",
       "    .dataframe thead th {\n",
       "        text-align: right;\n",
       "    }\n",
       "</style>\n",
       "<table border=\"1\" class=\"dataframe\">\n",
       "  <thead>\n",
       "    <tr style=\"text-align: right;\">\n",
       "      <th>10</th>\n",
       "      <th>Maybe</th>\n",
       "      <th>No</th>\n",
       "      <th>Yes</th>\n",
       "    </tr>\n",
       "    <tr>\n",
       "      <th>2</th>\n",
       "      <th></th>\n",
       "      <th></th>\n",
       "      <th></th>\n",
       "    </tr>\n",
       "  </thead>\n",
       "  <tbody>\n",
       "    <tr>\n",
       "      <th>F</th>\n",
       "      <td>27</td>\n",
       "      <td>5</td>\n",
       "      <td>19</td>\n",
       "    </tr>\n",
       "    <tr>\n",
       "      <th>M</th>\n",
       "      <td>19</td>\n",
       "      <td>8</td>\n",
       "      <td>22</td>\n",
       "    </tr>\n",
       "  </tbody>\n",
       "</table>\n",
       "</div>"
      ],
      "text/plain": [
       "10  Maybe  No  Yes\n",
       "2                 \n",
       "F      27   5   19\n",
       "M      19   8   22"
      ]
     },
     "execution_count": 143,
     "metadata": {},
     "output_type": "execute_result"
    }
   ],
   "source": [
    "pd.crosstab(df[2],df[10])"
   ]
  },
  {
   "cell_type": "code",
   "execution_count": 144,
   "id": "22848ea0",
   "metadata": {},
   "outputs": [
    {
     "data": {
      "text/plain": [
       "(-0.6966511118669347, 0.4860211607914212)"
      ]
     },
     "execution_count": 144,
     "metadata": {},
     "output_type": "execute_result"
    }
   ],
   "source": [
    "#test one Yes \n",
    "prop_diff, p_value = proportions_ztest([19, 22 ], [nF, nM])\n",
    "prop_diff, p_value"
   ]
  },
  {
   "cell_type": "code",
   "execution_count": 145,
   "id": "6df4f6c9",
   "metadata": {},
   "outputs": [
    {
     "data": {
      "text/plain": [
       "(-0.9318485880760166, 0.35141478032015383)"
      ]
     },
     "execution_count": 145,
     "metadata": {},
     "output_type": "execute_result"
    }
   ],
   "source": [
    "#test one Yes \n",
    "prop_diff, p_value = proportions_ztest([5, 8 ], [nF, nM])\n",
    "prop_diff, p_value"
   ]
  },
  {
   "cell_type": "code",
   "execution_count": 146,
   "id": "e7736b6b",
   "metadata": {},
   "outputs": [
    {
     "data": {
      "text/plain": [
       "(1.3212239223769853, 0.18642671204082062)"
      ]
     },
     "execution_count": 146,
     "metadata": {},
     "output_type": "execute_result"
    }
   ],
   "source": [
    "#test one Yes \n",
    "prop_diff, p_value = proportions_ztest([26, 19 ], [nF, nM])\n",
    "prop_diff, p_value"
   ]
  },
  {
   "cell_type": "code",
   "execution_count": 147,
   "id": "6d10fc4c",
   "metadata": {},
   "outputs": [
    {
     "data": {
      "text/plain": [
       "Maybe    46\n",
       "Yes      41\n",
       "No       13\n",
       "Name: 10, dtype: int64"
      ]
     },
     "execution_count": 147,
     "metadata": {},
     "output_type": "execute_result"
    }
   ],
   "source": [
    "df[10].value_counts()"
   ]
  },
  {
   "cell_type": "code",
   "execution_count": 148,
   "id": "217d2e13",
   "metadata": {},
   "outputs": [
    {
     "data": {
      "text/plain": [
       "(0.3171124881404219, 0.5111703401424064)"
      ]
     },
     "execution_count": 148,
     "metadata": {},
     "output_type": "execute_result"
    }
   ],
   "source": [
    "#yes intervals\n",
    "lower, upper = proportion_confint(count=41, nobs=99, alpha=0.05)\n",
    "lower, upper"
   ]
  },
  {
   "cell_type": "code",
   "execution_count": 149,
   "id": "f749efa0",
   "metadata": {},
   "outputs": [
    {
     "data": {
      "text/plain": [
       "(0.06478333391510754, 0.1978429287111551)"
      ]
     },
     "execution_count": 149,
     "metadata": {},
     "output_type": "execute_result"
    }
   ],
   "source": [
    "#no intervals\n",
    "lower, upper = proportion_confint(count=13, nobs=99, alpha=0.05)\n",
    "lower, upper"
   ]
  },
  {
   "cell_type": "code",
   "execution_count": 150,
   "id": "007cd217",
   "metadata": {},
   "outputs": [
    {
     "data": {
      "text/plain": [
       "(0.3564613941849417, 0.5526295149059673)"
      ]
     },
     "execution_count": 150,
     "metadata": {},
     "output_type": "execute_result"
    }
   ],
   "source": [
    "#maybe intervals\n",
    "lower, upper = proportion_confint(count=45, nobs=99, alpha=0.05)\n",
    "lower, upper"
   ]
  },
  {
   "cell_type": "markdown",
   "id": "0575ca5c",
   "metadata": {},
   "source": [
    ".--------------------------------------------------------------------------------------------------------."
   ]
  },
  {
   "cell_type": "markdown",
   "id": "3b1cd255",
   "metadata": {},
   "source": [
    "#### question7)  Has risk management contributed to identifying gaps in the services provided by Saudi Post?\n"
   ]
  },
  {
   "cell_type": "code",
   "execution_count": 151,
   "id": "79e7f32f",
   "metadata": {},
   "outputs": [
    {
     "data": {
      "text/plain": [
       "Maybe    39\n",
       "Yes      36\n",
       "No       25\n",
       "Name: 11, dtype: int64"
      ]
     },
     "execution_count": 151,
     "metadata": {},
     "output_type": "execute_result"
    }
   ],
   "source": [
    "#values counts\n",
    "df[11].value_counts()"
   ]
  },
  {
   "cell_type": "code",
   "execution_count": 152,
   "id": "0474286d",
   "metadata": {},
   "outputs": [
    {
     "data": {
      "image/png": "[encoded data removed]",
      "text/plain": [
       "<Figure size 432x288 with 1 Axes>"
      ]
     },
     "metadata": {
      "needs_background": "light"
     },
     "output_type": "display_data"
    }
   ],
   "source": [
    "draw_plt(11)"
   ]
  },
  {
   "cell_type": "code",
   "execution_count": 153,
   "id": "aa138e24",
   "metadata": {
    "scrolled": true
   },
   "outputs": [
    {
     "data": {
      "text/plain": [
       "Maybe    0.39\n",
       "Yes      0.36\n",
       "No       0.25\n",
       "Name: 11, dtype: float64"
      ]
     },
     "execution_count": 153,
     "metadata": {},
     "output_type": "execute_result"
    }
   ],
   "source": [
    "get_summary(11)"
   ]
  },
  {
   "cell_type": "code",
   "execution_count": 154,
   "id": "79dc0db9",
   "metadata": {},
   "outputs": [
    {
     "data": {
      "text/plain": [
       "(0.662145199960326, 0.7181530292522418)"
      ]
     },
     "execution_count": 154,
     "metadata": {},
     "output_type": "execute_result"
    }
   ],
   "source": [
    "chi2_stat, p_value, dof, expected_values  = stats.chi2_contingency(pd.crosstab(df[2],df[11]))\n",
    "chi2_stat, p_value"
   ]
  },
  {
   "cell_type": "code",
   "execution_count": 155,
   "id": "3efe70a9",
   "metadata": {},
   "outputs": [
    {
     "data": {
      "text/plain": [
       "(0.26592172874207737, 0.4540782712579226)"
      ]
     },
     "execution_count": 155,
     "metadata": {},
     "output_type": "execute_result"
    }
   ],
   "source": [
    "#yes intervals\n",
    "lower, upper = proportion_confint(count=36, nobs=100, alpha=0.05)\n",
    "lower, upper"
   ]
  },
  {
   "cell_type": "code",
   "execution_count": 156,
   "id": "b12c2bdd",
   "metadata": {},
   "outputs": [
    {
     "data": {
      "text/plain": [
       "(0.1651310699442871, 0.3348689300557129)"
      ]
     },
     "execution_count": 156,
     "metadata": {},
     "output_type": "execute_result"
    }
   ],
   "source": [
    "#No intervals\n",
    "lower, upper = proportion_confint(count=25, nobs=100, alpha=0.05)\n",
    "lower, upper"
   ]
  },
  {
   "cell_type": "code",
   "execution_count": 157,
   "id": "98a0adfc",
   "metadata": {},
   "outputs": [
    {
     "data": {
      "text/plain": [
       "(0.29440276921149167, 0.48559723078850836)"
      ]
     },
     "execution_count": 157,
     "metadata": {},
     "output_type": "execute_result"
    }
   ],
   "source": [
    "#maybe intervals\n",
    "lower, upper = proportion_confint(count=39, nobs=100, alpha=0.05)\n",
    "lower, upper"
   ]
  },
  {
   "cell_type": "markdown",
   "id": "c0766b5d",
   "metadata": {},
   "source": [
    ".--------------------------------------------------------------------------------------------------------."
   ]
  },
  {
   "cell_type": "markdown",
   "id": "7dc6cc11",
   "metadata": {},
   "source": [
    "#### question8)  Does information security in logistics face many internal risks during the supply process at Saudi Post?\n"
   ]
  },
  {
   "cell_type": "code",
   "execution_count": 158,
   "id": "26063164",
   "metadata": {},
   "outputs": [
    {
     "data": {
      "text/plain": [
       "Maybe    41\n",
       "Yes      38\n",
       "No       21\n",
       "Name: 12, dtype: int64"
      ]
     },
     "execution_count": 158,
     "metadata": {},
     "output_type": "execute_result"
    }
   ],
   "source": [
    "#values counts\n",
    "df[12].value_counts()"
   ]
  },
  {
   "cell_type": "code",
   "execution_count": 159,
   "id": "0a3165e5",
   "metadata": {},
   "outputs": [
    {
     "data": {
      "image/png": "[encoded data removed]",
      "text/plain": [
       "<Figure size 432x288 with 1 Axes>"
      ]
     },
     "metadata": {
      "needs_background": "light"
     },
     "output_type": "display_data"
    }
   ],
   "source": [
    "draw_plt(12)"
   ]
  },
  {
   "cell_type": "code",
   "execution_count": 160,
   "id": "9d2c0757",
   "metadata": {
    "scrolled": true
   },
   "outputs": [
    {
     "data": {
      "text/plain": [
       "Maybe    0.41\n",
       "Yes      0.38\n",
       "No       0.21\n",
       "Name: 12, dtype: float64"
      ]
     },
     "execution_count": 160,
     "metadata": {},
     "output_type": "execute_result"
    }
   ],
   "source": [
    "get_summary(12)"
   ]
  },
  {
   "cell_type": "code",
   "execution_count": 161,
   "id": "f46a0a28",
   "metadata": {},
   "outputs": [
    {
     "data": {
      "text/plain": [
       "(8.511359797907792, 0.014183444157751291)"
      ]
     },
     "execution_count": 161,
     "metadata": {},
     "output_type": "execute_result"
    }
   ],
   "source": [
    "chi2_stat, p_value, dof, expected_values  = stats.chi2_contingency(pd.crosstab(df[2],df[12]))\n",
    "chi2_stat, p_value"
   ]
  },
  {
   "cell_type": "code",
   "execution_count": 162,
   "id": "d2c689dc",
   "metadata": {
    "scrolled": true
   },
   "outputs": [
    {
     "data": {
      "text/html": [
       "<div>\n",
       "<style scoped>\n",
       "    .dataframe tbody tr th:only-of-type {\n",
       "        vertical-align: middle;\n",
       "    }\n",
       "\n",
       "    .dataframe tbody tr th {\n",
       "        vertical-align: top;\n",
       "    }\n",
       "\n",
       "    .dataframe thead th {\n",
       "        text-align: right;\n",
       "    }\n",
       "</style>\n",
       "<table border=\"1\" class=\"dataframe\">\n",
       "  <thead>\n",
       "    <tr style=\"text-align: right;\">\n",
       "      <th>12</th>\n",
       "      <th>Maybe</th>\n",
       "      <th>No</th>\n",
       "      <th>Yes</th>\n",
       "    </tr>\n",
       "    <tr>\n",
       "      <th>2</th>\n",
       "      <th></th>\n",
       "      <th></th>\n",
       "      <th></th>\n",
       "    </tr>\n",
       "  </thead>\n",
       "  <tbody>\n",
       "    <tr>\n",
       "      <th>F</th>\n",
       "      <td>28</td>\n",
       "      <td>9</td>\n",
       "      <td>14</td>\n",
       "    </tr>\n",
       "    <tr>\n",
       "      <th>M</th>\n",
       "      <td>13</td>\n",
       "      <td>12</td>\n",
       "      <td>24</td>\n",
       "    </tr>\n",
       "  </tbody>\n",
       "</table>\n",
       "</div>"
      ],
      "text/plain": [
       "12  Maybe  No  Yes\n",
       "2                 \n",
       "F      28   9   14\n",
       "M      13  12   24"
      ]
     },
     "execution_count": 162,
     "metadata": {},
     "output_type": "execute_result"
    }
   ],
   "source": [
    "pd.crosstab(df[2],df[12])"
   ]
  },
  {
   "cell_type": "code",
   "execution_count": 163,
   "id": "50fc58ce",
   "metadata": {},
   "outputs": [
    {
     "data": {
      "text/plain": [
       "0.016666666666666666"
      ]
     },
     "execution_count": 163,
     "metadata": {},
     "output_type": "execute_result"
    }
   ],
   "source": [
    "b_corr = .05 / 3\n",
    "b_corr"
   ]
  },
  {
   "cell_type": "code",
   "execution_count": 164,
   "id": "d70efb5a",
   "metadata": {},
   "outputs": [
    {
     "data": {
      "text/plain": [
       "(-2.146055544767084, 0.03186854745169324)"
      ]
     },
     "execution_count": 164,
     "metadata": {},
     "output_type": "execute_result"
    }
   ],
   "source": [
    "#test one Yes \n",
    "prop_diff, p_value = proportions_ztest([14, 24 ], [nF, nM])\n",
    "prop_diff, p_value"
   ]
  },
  {
   "cell_type": "code",
   "execution_count": 165,
   "id": "91c51932",
   "metadata": {},
   "outputs": [
    {
     "data": {
      "text/plain": [
       "(-0.789722898307524, 0.42968961552260276)"
      ]
     },
     "execution_count": 165,
     "metadata": {},
     "output_type": "execute_result"
    }
   ],
   "source": [
    "#test two No \n",
    "prop_diff, p_value = proportions_ztest([9, 12 ], [nF, nM])\n",
    "prop_diff, p_value"
   ]
  },
  {
   "cell_type": "code",
   "execution_count": 166,
   "id": "03894f53",
   "metadata": {},
   "outputs": [
    {
     "data": {
      "text/plain": [
       "(2.784797483705194, 0.0053561164095764415)"
      ]
     },
     "execution_count": 166,
     "metadata": {},
     "output_type": "execute_result"
    }
   ],
   "source": [
    "#test three maYbe \n",
    "prop_diff, p_value = proportions_ztest([27, 13 ], [nF, nM])\n",
    "prop_diff, p_value"
   ]
  },
  {
   "cell_type": "code",
   "execution_count": 167,
   "id": "d153f883",
   "metadata": {},
   "outputs": [
    {
     "data": {
      "text/plain": [
       "True"
      ]
     },
     "execution_count": 167,
     "metadata": {},
     "output_type": "execute_result"
    }
   ],
   "source": [
    "p_value < b_corr"
   ]
  },
  {
   "cell_type": "markdown",
   "id": "520dbb05",
   "metadata": {},
   "source": [
    "- there are a differnece in probotion between male and female in anwer maybe \n",
    "- female propotion who said maybe is heigher than male probotion who said maybe"
   ]
  },
  {
   "cell_type": "code",
   "execution_count": 168,
   "id": "e4629497",
   "metadata": {},
   "outputs": [
    {
     "data": {
      "text/plain": [
       "Maybe    41\n",
       "Yes      38\n",
       "No       21\n",
       "Name: 12, dtype: int64"
      ]
     },
     "execution_count": 168,
     "metadata": {},
     "output_type": "execute_result"
    }
   ],
   "source": [
    "df[12].value_counts()"
   ]
  },
  {
   "cell_type": "code",
   "execution_count": 169,
   "id": "4bfc6aac",
   "metadata": {},
   "outputs": [
    {
     "data": {
      "text/plain": [
       "(0.28486600512143223, 0.4751339948785678)"
      ]
     },
     "execution_count": 169,
     "metadata": {},
     "output_type": "execute_result"
    }
   ],
   "source": [
    "#yes intervals\n",
    "lower, upper = proportion_confint(count=38, nobs=100, alpha=0.05)\n",
    "lower, upper"
   ]
  },
  {
   "cell_type": "code",
   "execution_count": 170,
   "id": "17504f56",
   "metadata": {},
   "outputs": [
    {
     "data": {
      "text/plain": [
       "(0.1301690524700379, 0.2898309475299621)"
      ]
     },
     "execution_count": 170,
     "metadata": {},
     "output_type": "execute_result"
    }
   ],
   "source": [
    "#No intervals\n",
    "lower, upper = proportion_confint(count=21, nobs=100, alpha=0.05)\n",
    "lower, upper"
   ]
  },
  {
   "cell_type": "code",
   "execution_count": 171,
   "id": "c3ea7bb5",
   "metadata": {},
   "outputs": [
    {
     "data": {
      "text/plain": [
       "(0.3136024435617837, 0.5063975564382163)"
      ]
     },
     "execution_count": 171,
     "metadata": {},
     "output_type": "execute_result"
    }
   ],
   "source": [
    "#Maybe intervals\n",
    "lower, upper = proportion_confint(count=41, nobs=100, alpha=0.05)\n",
    "lower, upper"
   ]
  },
  {
   "cell_type": "code",
   "execution_count": 172,
   "id": "2d2fd565",
   "metadata": {
    "scrolled": true
   },
   "outputs": [
    {
     "data": {
      "text/plain": [
       "Maybe    28\n",
       "Yes      14\n",
       "No        9\n",
       "Name: 12, dtype: int64"
      ]
     },
     "execution_count": 172,
     "metadata": {},
     "output_type": "execute_result"
    }
   ],
   "source": [
    "df[F_filter][12].value_counts()"
   ]
  },
  {
   "cell_type": "code",
   "execution_count": 173,
   "id": "1ef7baac",
   "metadata": {},
   "outputs": [
    {
     "data": {
      "text/plain": [
       "(0.40185381865137054, 0.6781461813486296)"
      ]
     },
     "execution_count": 173,
     "metadata": {},
     "output_type": "execute_result"
    }
   ],
   "source": [
    "lower, upper = proportion_confint(count=27, nobs=50, alpha=0.05)\n",
    "lower, upper"
   ]
  },
  {
   "cell_type": "code",
   "execution_count": 174,
   "id": "8581a24a",
   "metadata": {},
   "outputs": [
    {
     "data": {
      "text/plain": [
       "Yes      24\n",
       "Maybe    13\n",
       "No       12\n",
       "Name: 12, dtype: int64"
      ]
     },
     "execution_count": 174,
     "metadata": {},
     "output_type": "execute_result"
    }
   ],
   "source": [
    "df[M_filter][12].value_counts()"
   ]
  },
  {
   "cell_type": "code",
   "execution_count": 175,
   "id": "475fc301",
   "metadata": {},
   "outputs": [
    {
     "data": {
      "text/plain": [
       "(0.13841902475292034, 0.3815809752470797)"
      ]
     },
     "execution_count": 175,
     "metadata": {},
     "output_type": "execute_result"
    }
   ],
   "source": [
    "lower, upper = proportion_confint(count=13, nobs=50, alpha=0.05)\n",
    "lower, upper"
   ]
  },
  {
   "cell_type": "markdown",
   "id": "756d0dc5",
   "metadata": {},
   "source": [
    ".--------------------------------------------------------------------------------------------------------."
   ]
  },
  {
   "cell_type": "markdown",
   "id": "cc0d57bb",
   "metadata": {},
   "source": [
    "#### question9)  Does information security in logistics face many external risks during the supply process at Saudi Post?\n"
   ]
  },
  {
   "cell_type": "code",
   "execution_count": 176,
   "id": "de9f5b68",
   "metadata": {},
   "outputs": [
    {
     "data": {
      "text/plain": [
       "Yes      44\n",
       "Maybe    42\n",
       "No       14\n",
       "Name: 13, dtype: int64"
      ]
     },
     "execution_count": 176,
     "metadata": {},
     "output_type": "execute_result"
    }
   ],
   "source": [
    "#values counts\n",
    "df[13].value_counts()"
   ]
  },
  {
   "cell_type": "code",
   "execution_count": 177,
   "id": "111501f5",
   "metadata": {},
   "outputs": [
    {
     "data": {
      "image/png": "[encoded data removed]",
      "text/plain": [
       "<Figure size 432x288 with 1 Axes>"
      ]
     },
     "metadata": {
      "needs_background": "light"
     },
     "output_type": "display_data"
    }
   ],
   "source": [
    "draw_plt(13)"
   ]
  },
  {
   "cell_type": "code",
   "execution_count": 178,
   "id": "9eea62b7",
   "metadata": {
    "scrolled": false
   },
   "outputs": [
    {
     "data": {
      "text/plain": [
       "Yes      0.44\n",
       "Maybe    0.42\n",
       "No       0.14\n",
       "Name: 13, dtype: float64"
      ]
     },
     "execution_count": 178,
     "metadata": {},
     "output_type": "execute_result"
    }
   ],
   "source": [
    "get_summary(13)"
   ]
  },
  {
   "cell_type": "code",
   "execution_count": 179,
   "id": "51135171",
   "metadata": {},
   "outputs": [
    {
     "data": {
      "text/plain": [
       "(5.1308835222400635, 0.07688520904248389)"
      ]
     },
     "execution_count": 179,
     "metadata": {},
     "output_type": "execute_result"
    }
   ],
   "source": [
    "chi2_stat, p_value, dof, expected_values  = stats.chi2_contingency(pd.crosstab(df[2],df[13]))\n",
    "chi2_stat, p_value"
   ]
  },
  {
   "cell_type": "code",
   "execution_count": 180,
   "id": "eb91ac73",
   "metadata": {},
   "outputs": [
    {
     "data": {
      "text/plain": [
       "Yes      44\n",
       "Maybe    42\n",
       "No       14\n",
       "Name: 13, dtype: int64"
      ]
     },
     "execution_count": 180,
     "metadata": {},
     "output_type": "execute_result"
    }
   ],
   "source": [
    "df[13].value_counts()"
   ]
  },
  {
   "cell_type": "code",
   "execution_count": 181,
   "id": "2a6f9184",
   "metadata": {},
   "outputs": [
    {
     "data": {
      "text/plain": [
       "(0.3465624111992731, 0.5423264776896157)"
      ]
     },
     "execution_count": 181,
     "metadata": {},
     "output_type": "execute_result"
    }
   ],
   "source": [
    "#yes intervals\n",
    "lower, upper = proportion_confint(count=44, nobs=99, alpha=0.05)\n",
    "lower, upper"
   ]
  },
  {
   "cell_type": "code",
   "execution_count": 182,
   "id": "e4b74ca7",
   "metadata": {},
   "outputs": [
    {
     "data": {
      "text/plain": [
       "(0.07277548403426107, 0.21005279879402175)"
      ]
     },
     "execution_count": 182,
     "metadata": {},
     "output_type": "execute_result"
    }
   ],
   "source": [
    "#No intervals\n",
    "lower, upper = proportion_confint(count=14, nobs=99, alpha=0.05)\n",
    "lower, upper"
   ]
  },
  {
   "cell_type": "code",
   "execution_count": 183,
   "id": "025e8016",
   "metadata": {},
   "outputs": [
    {
     "data": {
      "text/plain": [
       "(0.3171124881404219, 0.5111703401424064)"
      ]
     },
     "execution_count": 183,
     "metadata": {},
     "output_type": "execute_result"
    }
   ],
   "source": [
    "#maybe intervals\n",
    "lower, upper = proportion_confint(count=41, nobs=99, alpha=0.05)\n",
    "lower, upper"
   ]
  },
  {
   "cell_type": "markdown",
   "id": "390bac19",
   "metadata": {},
   "source": [
    ".--------------------------------------------------------------------------------------------------------."
   ]
  },
  {
   "cell_type": "markdown",
   "id": "8b63b0d8",
   "metadata": {},
   "source": [
    "#### question10)  Does the continuity of providing logistical services on the supply chain face electronic information security risks?\n"
   ]
  },
  {
   "cell_type": "code",
   "execution_count": 184,
   "id": "5b138f5c",
   "metadata": {},
   "outputs": [
    {
     "data": {
      "text/plain": [
       "Yes      43\n",
       "Maybe    41\n",
       "No       16\n",
       "Name: 14, dtype: int64"
      ]
     },
     "execution_count": 184,
     "metadata": {},
     "output_type": "execute_result"
    }
   ],
   "source": [
    "#values counts\n",
    "df[14].value_counts()"
   ]
  },
  {
   "cell_type": "code",
   "execution_count": 185,
   "id": "29cca490",
   "metadata": {},
   "outputs": [
    {
     "data": {
      "image/png": "[encoded data removed]",
      "text/plain": [
       "<Figure size 432x288 with 1 Axes>"
      ]
     },
     "metadata": {
      "needs_background": "light"
     },
     "output_type": "display_data"
    }
   ],
   "source": [
    "draw_plt(14)"
   ]
  },
  {
   "cell_type": "code",
   "execution_count": 186,
   "id": "efb6dfcc",
   "metadata": {
    "scrolled": true
   },
   "outputs": [
    {
     "data": {
      "text/plain": [
       "Yes      0.43\n",
       "Maybe    0.41\n",
       "No       0.16\n",
       "Name: 14, dtype: float64"
      ]
     },
     "execution_count": 186,
     "metadata": {},
     "output_type": "execute_result"
    }
   ],
   "source": [
    "get_summary(14)"
   ]
  },
  {
   "cell_type": "code",
   "execution_count": 187,
   "id": "a537d7ca",
   "metadata": {},
   "outputs": [
    {
     "data": {
      "text/plain": [
       "(2.7103751313344393, 0.257898916932557)"
      ]
     },
     "execution_count": 187,
     "metadata": {},
     "output_type": "execute_result"
    }
   ],
   "source": [
    "chi2_stat, p_value, dof, expected_values  = stats.chi2_contingency(pd.crosstab(df[2],df[14]))\n",
    "chi2_stat, p_value"
   ]
  },
  {
   "cell_type": "code",
   "execution_count": 188,
   "id": "28206ae1",
   "metadata": {},
   "outputs": [
    {
     "data": {
      "text/html": [
       "<div>\n",
       "<style scoped>\n",
       "    .dataframe tbody tr th:only-of-type {\n",
       "        vertical-align: middle;\n",
       "    }\n",
       "\n",
       "    .dataframe tbody tr th {\n",
       "        vertical-align: top;\n",
       "    }\n",
       "\n",
       "    .dataframe thead th {\n",
       "        text-align: right;\n",
       "    }\n",
       "</style>\n",
       "<table border=\"1\" class=\"dataframe\">\n",
       "  <thead>\n",
       "    <tr style=\"text-align: right;\">\n",
       "      <th>14</th>\n",
       "      <th>Maybe</th>\n",
       "      <th>No</th>\n",
       "      <th>Yes</th>\n",
       "    </tr>\n",
       "    <tr>\n",
       "      <th>2</th>\n",
       "      <th></th>\n",
       "      <th></th>\n",
       "      <th></th>\n",
       "    </tr>\n",
       "  </thead>\n",
       "  <tbody>\n",
       "    <tr>\n",
       "      <th>F</th>\n",
       "      <td>23</td>\n",
       "      <td>10</td>\n",
       "      <td>18</td>\n",
       "    </tr>\n",
       "    <tr>\n",
       "      <th>M</th>\n",
       "      <td>18</td>\n",
       "      <td>6</td>\n",
       "      <td>25</td>\n",
       "    </tr>\n",
       "  </tbody>\n",
       "</table>\n",
       "</div>"
      ],
      "text/plain": [
       "14  Maybe  No  Yes\n",
       "2                 \n",
       "F      23  10   18\n",
       "M      18   6   25"
      ]
     },
     "execution_count": 188,
     "metadata": {},
     "output_type": "execute_result"
    }
   ],
   "source": [
    "pd.crosstab(df[2],df[14])"
   ]
  },
  {
   "cell_type": "code",
   "execution_count": 189,
   "id": "43266d89",
   "metadata": {},
   "outputs": [
    {
     "data": {
      "text/plain": [
       "(-1.507488932930294, 0.1316853784790746)"
      ]
     },
     "execution_count": 189,
     "metadata": {},
     "output_type": "execute_result"
    }
   ],
   "source": [
    "#test one yes\n",
    "prop_diff, p_value = proportions_ztest([18, 25 ], [nF, nM])\n",
    "prop_diff, p_value"
   ]
  },
  {
   "cell_type": "code",
   "execution_count": 190,
   "id": "25055ddd",
   "metadata": {},
   "outputs": [
    {
     "data": {
      "text/plain": [
       "(1.0480671732320357, 0.29460765925600374)"
      ]
     },
     "execution_count": 190,
     "metadata": {},
     "output_type": "execute_result"
    }
   ],
   "source": [
    "#test two no\n",
    "prop_diff, p_value = proportions_ztest([10, 6 ], [nF, nM])\n",
    "prop_diff, p_value"
   ]
  },
  {
   "cell_type": "code",
   "execution_count": 191,
   "id": "0ee54fdd",
   "metadata": {},
   "outputs": [
    {
     "data": {
      "text/plain": [
       "(0.7365437624064255, 0.46139984520886135)"
      ]
     },
     "execution_count": 191,
     "metadata": {},
     "output_type": "execute_result"
    }
   ],
   "source": [
    "#test three maYbe\n",
    "prop_diff, p_value = proportions_ztest([22, 18 ], [nF, nM])\n",
    "prop_diff, p_value"
   ]
  },
  {
   "cell_type": "code",
   "execution_count": 192,
   "id": "ce713fa4",
   "metadata": {},
   "outputs": [
    {
     "data": {
      "text/plain": [
       "Yes      43\n",
       "Maybe    41\n",
       "No       16\n",
       "Name: 14, dtype: int64"
      ]
     },
     "execution_count": 192,
     "metadata": {},
     "output_type": "execute_result"
    }
   ],
   "source": [
    "df[14].value_counts()"
   ]
  },
  {
   "cell_type": "code",
   "execution_count": 193,
   "id": "ce792ed6",
   "metadata": {},
   "outputs": [
    {
     "data": {
      "text/plain": [
       "(0.33670438541989284, 0.531982483266976)"
      ]
     },
     "execution_count": 193,
     "metadata": {},
     "output_type": "execute_result"
    }
   ],
   "source": [
    "#yes intervals\n",
    "lower, upper = proportion_confint(count=43, nobs=99, alpha=0.05)\n",
    "lower, upper"
   ]
  },
  {
   "cell_type": "code",
   "execution_count": 194,
   "id": "0380f8b2",
   "metadata": {},
   "outputs": [
    {
     "data": {
      "text/plain": [
       "(0.08910675740997552, 0.23412556582234773)"
      ]
     },
     "execution_count": 194,
     "metadata": {},
     "output_type": "execute_result"
    }
   ],
   "source": [
    "#No intervals\n",
    "lower, upper = proportion_confint(count=16, nobs=99, alpha=0.05)\n",
    "lower, upper"
   ]
  },
  {
   "cell_type": "code",
   "execution_count": 195,
   "id": "20d4a02b",
   "metadata": {},
   "outputs": [
    {
     "data": {
      "text/plain": [
       "(0.3073794002972533, 0.5007014077835548)"
      ]
     },
     "execution_count": 195,
     "metadata": {},
     "output_type": "execute_result"
    }
   ],
   "source": [
    "#may be intervals\n",
    "lower, upper = proportion_confint(count=40, nobs=99, alpha=0.05)\n",
    "lower, upper"
   ]
  },
  {
   "cell_type": "markdown",
   "id": "91927b89",
   "metadata": {},
   "source": [
    ".--------------------------------------------------------------------------------------------------------."
   ]
  },
  {
   "cell_type": "markdown",
   "id": "2703b4c3",
   "metadata": {},
   "source": [
    "#### question11) Are the risks faced by information security in the logistics industry frequent and not developed?\n"
   ]
  },
  {
   "cell_type": "code",
   "execution_count": 196,
   "id": "2eb80f42",
   "metadata": {},
   "outputs": [
    {
     "data": {
      "text/plain": [
       "Maybe    45\n",
       "Yes      28\n",
       "No       27\n",
       "Name: 15, dtype: int64"
      ]
     },
     "execution_count": 196,
     "metadata": {},
     "output_type": "execute_result"
    }
   ],
   "source": [
    "#values counts\n",
    "df[15].value_counts()"
   ]
  },
  {
   "cell_type": "code",
   "execution_count": 197,
   "id": "b411ffec",
   "metadata": {},
   "outputs": [
    {
     "data": {
      "image/png": "[encoded data removed]",
      "text/plain": [
       "<Figure size 432x288 with 1 Axes>"
      ]
     },
     "metadata": {
      "needs_background": "light"
     },
     "output_type": "display_data"
    }
   ],
   "source": [
    "draw_plt(15)"
   ]
  },
  {
   "cell_type": "code",
   "execution_count": 198,
   "id": "254056ae",
   "metadata": {
    "scrolled": false
   },
   "outputs": [
    {
     "data": {
      "text/plain": [
       "Maybe    0.45\n",
       "Yes      0.28\n",
       "No       0.27\n",
       "Name: 15, dtype: float64"
      ]
     },
     "execution_count": 198,
     "metadata": {},
     "output_type": "execute_result"
    }
   ],
   "source": [
    "get_summary(15)"
   ]
  },
  {
   "cell_type": "code",
   "execution_count": 199,
   "id": "6fe237c6",
   "metadata": {},
   "outputs": [
    {
     "data": {
      "text/plain": [
       "(2.372589247339147, 0.3053506093703263)"
      ]
     },
     "execution_count": 199,
     "metadata": {},
     "output_type": "execute_result"
    }
   ],
   "source": [
    "chi2_stat, p_value, dof, expected_values  = stats.chi2_contingency(pd.crosstab(df[2],df[15]))\n",
    "chi2_stat, p_value"
   ]
  },
  {
   "cell_type": "code",
   "execution_count": 200,
   "id": "67467e3d",
   "metadata": {},
   "outputs": [
    {
     "data": {
      "text/html": [
       "<div>\n",
       "<style scoped>\n",
       "    .dataframe tbody tr th:only-of-type {\n",
       "        vertical-align: middle;\n",
       "    }\n",
       "\n",
       "    .dataframe tbody tr th {\n",
       "        vertical-align: top;\n",
       "    }\n",
       "\n",
       "    .dataframe thead th {\n",
       "        text-align: right;\n",
       "    }\n",
       "</style>\n",
       "<table border=\"1\" class=\"dataframe\">\n",
       "  <thead>\n",
       "    <tr style=\"text-align: right;\">\n",
       "      <th>15</th>\n",
       "      <th>Maybe</th>\n",
       "      <th>No</th>\n",
       "      <th>Yes</th>\n",
       "    </tr>\n",
       "    <tr>\n",
       "      <th>2</th>\n",
       "      <th></th>\n",
       "      <th></th>\n",
       "      <th></th>\n",
       "    </tr>\n",
       "  </thead>\n",
       "  <tbody>\n",
       "    <tr>\n",
       "      <th>F</th>\n",
       "      <td>26</td>\n",
       "      <td>14</td>\n",
       "      <td>11</td>\n",
       "    </tr>\n",
       "    <tr>\n",
       "      <th>M</th>\n",
       "      <td>19</td>\n",
       "      <td>13</td>\n",
       "      <td>17</td>\n",
       "    </tr>\n",
       "  </tbody>\n",
       "</table>\n",
       "</div>"
      ],
      "text/plain": [
       "15  Maybe  No  Yes\n",
       "2                 \n",
       "F      26  14   11\n",
       "M      19  13   17"
      ]
     },
     "execution_count": 200,
     "metadata": {},
     "output_type": "execute_result"
    }
   ],
   "source": [
    "pd.crosstab(df[2],df[15])"
   ]
  },
  {
   "cell_type": "code",
   "execution_count": 201,
   "id": "cee56a9a",
   "metadata": {},
   "outputs": [
    {
     "data": {
      "text/plain": [
       "(-1.4021250685437692, 0.16087790237203614)"
      ]
     },
     "execution_count": 201,
     "metadata": {},
     "output_type": "execute_result"
    }
   ],
   "source": [
    "#test one yes \n",
    "prop_diff, p_value = proportions_ztest([11, 17], [nF, nM])\n",
    "prop_diff, p_value"
   ]
  },
  {
   "cell_type": "code",
   "execution_count": 202,
   "id": "5ec4f408",
   "metadata": {},
   "outputs": [
    {
     "data": {
      "text/plain": [
       "(0.16413036132965808, 0.8696285210234677)"
      ]
     },
     "execution_count": 202,
     "metadata": {},
     "output_type": "execute_result"
    }
   ],
   "source": [
    "#test two no\n",
    "prop_diff, p_value = proportions_ztest([14, 13 ], [nF, nM])\n",
    "prop_diff, p_value"
   ]
  },
  {
   "cell_type": "code",
   "execution_count": 203,
   "id": "6654adb8",
   "metadata": {},
   "outputs": [
    {
     "data": {
      "text/plain": [
       "(-0.9193415278168808, 0.357916962974105)"
      ]
     },
     "execution_count": 203,
     "metadata": {},
     "output_type": "execute_result"
    }
   ],
   "source": [
    "#test three maYbe \n",
    "prop_diff, p_value = proportions_ztest([15, 19 ], [nF, nM])\n",
    "prop_diff, p_value"
   ]
  },
  {
   "cell_type": "code",
   "execution_count": 204,
   "id": "ae6dd3e4",
   "metadata": {},
   "outputs": [
    {
     "data": {
      "text/plain": [
       "Maybe    45\n",
       "Yes      28\n",
       "No       27\n",
       "Name: 15, dtype: int64"
      ]
     },
     "execution_count": 204,
     "metadata": {},
     "output_type": "execute_result"
    }
   ],
   "source": [
    "df[15].value_counts()"
   ]
  },
  {
   "cell_type": "code",
   "execution_count": 205,
   "id": "b6f80e07",
   "metadata": {},
   "outputs": [
    {
     "data": {
      "text/plain": [
       "(0.19199783535321785, 0.3680021646467822)"
      ]
     },
     "execution_count": 205,
     "metadata": {},
     "output_type": "execute_result"
    }
   ],
   "source": [
    "#yes intervals\n",
    "lower, upper = proportion_confint(count=28, nobs=100, alpha=0.05)\n",
    "lower, upper"
   ]
  },
  {
   "cell_type": "code",
   "execution_count": 206,
   "id": "951dffb6",
   "metadata": {},
   "outputs": [
    {
     "data": {
      "text/plain": [
       "(0.1829855452491477, 0.35701445475085236)"
      ]
     },
     "execution_count": 206,
     "metadata": {},
     "output_type": "execute_result"
    }
   ],
   "source": [
    "#No intervals\n",
    "lower, upper = proportion_confint(count=27, nobs=100, alpha=0.05)\n",
    "lower, upper"
   ]
  },
  {
   "cell_type": "code",
   "execution_count": 207,
   "id": "41da5d23",
   "metadata": {},
   "outputs": [
    {
     "data": {
      "text/plain": [
       "(0.3524930229100606, 0.5475069770899395)"
      ]
     },
     "execution_count": 207,
     "metadata": {},
     "output_type": "execute_result"
    }
   ],
   "source": [
    "#Maybe intervals\n",
    "lower, upper = proportion_confint(count=45, nobs=100, alpha=0.05)\n",
    "lower, upper"
   ]
  },
  {
   "cell_type": "markdown",
   "id": "11ff6af1",
   "metadata": {},
   "source": [
    ".--------------------------------------------------------------------------------------------------------."
   ]
  },
  {
   "cell_type": "markdown",
   "id": "866ba6ae",
   "metadata": {},
   "source": [
    "#### question12) Have technical developments highlighted the informational risks faced by information security in the logistics services industry at Saudi Post?\n"
   ]
  },
  {
   "cell_type": "code",
   "execution_count": 208,
   "id": "f074d635",
   "metadata": {},
   "outputs": [
    {
     "data": {
      "text/plain": [
       "Yes      47\n",
       "Maybe    44\n",
       "No        9\n",
       "Name: 16, dtype: int64"
      ]
     },
     "execution_count": 208,
     "metadata": {},
     "output_type": "execute_result"
    }
   ],
   "source": [
    "#values counts\n",
    "df[16].value_counts()"
   ]
  },
  {
   "cell_type": "code",
   "execution_count": 209,
   "id": "e5c7b860",
   "metadata": {},
   "outputs": [
    {
     "data": {
      "image/png": "[encoded data removed]",
      "text/plain": [
       "<Figure size 432x288 with 1 Axes>"
      ]
     },
     "metadata": {
      "needs_background": "light"
     },
     "output_type": "display_data"
    }
   ],
   "source": [
    "draw_plt(16)"
   ]
  },
  {
   "cell_type": "code",
   "execution_count": 210,
   "id": "e88eeb2f",
   "metadata": {
    "scrolled": true
   },
   "outputs": [
    {
     "data": {
      "text/plain": [
       "Yes      0.47\n",
       "Maybe    0.44\n",
       "No       0.09\n",
       "Name: 16, dtype: float64"
      ]
     },
     "execution_count": 210,
     "metadata": {},
     "output_type": "execute_result"
    }
   ],
   "source": [
    "get_summary(16)"
   ]
  },
  {
   "cell_type": "code",
   "execution_count": 211,
   "id": "0d5c2b6e",
   "metadata": {
    "scrolled": true
   },
   "outputs": [
    {
     "data": {
      "text/plain": [
       "(0.18337014582321187, 0.912392441399765)"
      ]
     },
     "execution_count": 211,
     "metadata": {},
     "output_type": "execute_result"
    }
   ],
   "source": [
    "chi2_stat, p_value, dof, expected_values  = stats.chi2_contingency(pd.crosstab(df[2],df[16]))\n",
    "chi2_stat, p_value"
   ]
  },
  {
   "cell_type": "code",
   "execution_count": 212,
   "id": "a4dfd2c9",
   "metadata": {},
   "outputs": [
    {
     "data": {
      "text/plain": [
       "Yes      47\n",
       "Maybe    44\n",
       "No        9\n",
       "Name: 16, dtype: int64"
      ]
     },
     "execution_count": 212,
     "metadata": {},
     "output_type": "execute_result"
    }
   ],
   "source": [
    "df[16].value_counts()"
   ]
  },
  {
   "cell_type": "code",
   "execution_count": 213,
   "id": "b00d4e79",
   "metadata": {},
   "outputs": [
    {
     "data": {
      "text/plain": [
       "(0.37638127350315, 0.5731136759917995)"
      ]
     },
     "execution_count": 213,
     "metadata": {},
     "output_type": "execute_result"
    }
   ],
   "source": [
    "#yes intervals\n",
    "lower, upper = proportion_confint(count=47, nobs=99, alpha=0.05)\n",
    "lower, upper"
   ]
  },
  {
   "cell_type": "code",
   "execution_count": 214,
   "id": "edc15bfd",
   "metadata": {},
   "outputs": [
    {
     "data": {
      "text/plain": [
       "(0.03428023225673732, 0.1475379495614445)"
      ]
     },
     "execution_count": 214,
     "metadata": {},
     "output_type": "execute_result"
    }
   ],
   "source": [
    "#No intervals\n",
    "lower, upper = proportion_confint(count=9, nobs=99, alpha=0.05)\n",
    "lower, upper"
   ]
  },
  {
   "cell_type": "code",
   "execution_count": 215,
   "id": "7ce477f5",
   "metadata": {},
   "outputs": [
    {
     "data": {
      "text/plain": [
       "(0.33670438541989284, 0.531982483266976)"
      ]
     },
     "execution_count": 215,
     "metadata": {},
     "output_type": "execute_result"
    }
   ],
   "source": [
    "#maybe intervals\n",
    "lower, upper = proportion_confint(count=43, nobs=99, alpha=0.05)\n",
    "lower, upper"
   ]
  },
  {
   "cell_type": "markdown",
   "id": "e0a0cfb4",
   "metadata": {},
   "source": [
    ".--------------------------------------------------------------------------------------------------------."
   ]
  },
  {
   "cell_type": "markdown",
   "id": "186d0972",
   "metadata": {},
   "source": [
    "#### question13)  Is the security of the most vulnerable information in the logistics services industry in Saudi Post?\n"
   ]
  },
  {
   "cell_type": "code",
   "execution_count": 216,
   "id": "df72b6be",
   "metadata": {},
   "outputs": [
    {
     "data": {
      "text/plain": [
       "Yes      44\n",
       "Maybe    42\n",
       "No       14\n",
       "Name: 17, dtype: int64"
      ]
     },
     "execution_count": 216,
     "metadata": {},
     "output_type": "execute_result"
    }
   ],
   "source": [
    "#values counts\n",
    "df[17].value_counts()"
   ]
  },
  {
   "cell_type": "code",
   "execution_count": 217,
   "id": "b8e508b5",
   "metadata": {},
   "outputs": [
    {
     "data": {
      "image/png": "[encoded data removed]",
      "text/plain": [
       "<Figure size 432x288 with 1 Axes>"
      ]
     },
     "metadata": {
      "needs_background": "light"
     },
     "output_type": "display_data"
    }
   ],
   "source": [
    "draw_plt(17)"
   ]
  },
  {
   "cell_type": "code",
   "execution_count": 218,
   "id": "7dc7f11c",
   "metadata": {
    "scrolled": true
   },
   "outputs": [
    {
     "data": {
      "text/plain": [
       "Yes      0.44\n",
       "Maybe    0.42\n",
       "No       0.14\n",
       "Name: 17, dtype: float64"
      ]
     },
     "execution_count": 218,
     "metadata": {},
     "output_type": "execute_result"
    }
   ],
   "source": [
    "get_summary(17)"
   ]
  },
  {
   "cell_type": "code",
   "execution_count": 219,
   "id": "675ba545",
   "metadata": {
    "scrolled": true
   },
   "outputs": [
    {
     "data": {
      "text/plain": [
       "(1.960784313725489, 0.3751639468835337)"
      ]
     },
     "execution_count": 219,
     "metadata": {},
     "output_type": "execute_result"
    }
   ],
   "source": [
    "chi2_stat, p_value, dof, expected_values  = stats.chi2_contingency(pd.crosstab(df[2],df[17]))\n",
    "chi2_stat, p_value"
   ]
  },
  {
   "cell_type": "code",
   "execution_count": 220,
   "id": "fbdb78a6",
   "metadata": {},
   "outputs": [
    {
     "data": {
      "text/html": [
       "<div>\n",
       "<style scoped>\n",
       "    .dataframe tbody tr th:only-of-type {\n",
       "        vertical-align: middle;\n",
       "    }\n",
       "\n",
       "    .dataframe tbody tr th {\n",
       "        vertical-align: top;\n",
       "    }\n",
       "\n",
       "    .dataframe thead th {\n",
       "        text-align: right;\n",
       "    }\n",
       "</style>\n",
       "<table border=\"1\" class=\"dataframe\">\n",
       "  <thead>\n",
       "    <tr style=\"text-align: right;\">\n",
       "      <th>17</th>\n",
       "      <th>Maybe</th>\n",
       "      <th>No</th>\n",
       "      <th>Yes</th>\n",
       "    </tr>\n",
       "    <tr>\n",
       "      <th>2</th>\n",
       "      <th></th>\n",
       "      <th></th>\n",
       "      <th></th>\n",
       "    </tr>\n",
       "  </thead>\n",
       "  <tbody>\n",
       "    <tr>\n",
       "      <th>F</th>\n",
       "      <td>24</td>\n",
       "      <td>5</td>\n",
       "      <td>22</td>\n",
       "    </tr>\n",
       "    <tr>\n",
       "      <th>M</th>\n",
       "      <td>18</td>\n",
       "      <td>9</td>\n",
       "      <td>22</td>\n",
       "    </tr>\n",
       "  </tbody>\n",
       "</table>\n",
       "</div>"
      ],
      "text/plain": [
       "17  Maybe  No  Yes\n",
       "2                 \n",
       "F      24   5   22\n",
       "M      18   9   22"
      ]
     },
     "execution_count": 220,
     "metadata": {},
     "output_type": "execute_result"
    }
   ],
   "source": [
    "pd.crosstab(df[2],df[17])"
   ]
  },
  {
   "cell_type": "code",
   "execution_count": 221,
   "id": "55bbcf10",
   "metadata": {},
   "outputs": [
    {
     "data": {
      "text/plain": [
       "(-0.08989790127172724, 0.9283683489432983)"
      ]
     },
     "execution_count": 221,
     "metadata": {},
     "output_type": "execute_result"
    }
   ],
   "source": [
    "#test one yes\n",
    "prop_diff, p_value = proportions_ztest([22, 22], [nF, nM])\n",
    "prop_diff, p_value"
   ]
  },
  {
   "cell_type": "code",
   "execution_count": 222,
   "id": "79a93198",
   "metadata": {},
   "outputs": [
    {
     "data": {
      "text/plain": [
       "(-1.1945791640490988, 0.2322514939464455)"
      ]
     },
     "execution_count": 222,
     "metadata": {},
     "output_type": "execute_result"
    }
   ],
   "source": [
    "#test two no\n",
    "prop_diff, p_value = proportions_ztest([5, 9], [nF, nM])\n",
    "prop_diff, p_value"
   ]
  },
  {
   "cell_type": "code",
   "execution_count": 223,
   "id": "bf1c3a7e",
   "metadata": {},
   "outputs": [
    {
     "data": {
      "text/plain": [
       "(0.9357384757029242, 0.349407855408142)"
      ]
     },
     "execution_count": 223,
     "metadata": {},
     "output_type": "execute_result"
    }
   ],
   "source": [
    "#test three maybe\n",
    "prop_diff, p_value = proportions_ztest([23, 18], [nF, nM])\n",
    "prop_diff, p_value"
   ]
  },
  {
   "cell_type": "code",
   "execution_count": 224,
   "id": "daffaee1",
   "metadata": {},
   "outputs": [
    {
     "data": {
      "text/plain": [
       "Yes      44\n",
       "Maybe    42\n",
       "No       14\n",
       "Name: 17, dtype: int64"
      ]
     },
     "execution_count": 224,
     "metadata": {},
     "output_type": "execute_result"
    }
   ],
   "source": [
    "df[17].value_counts()"
   ]
  },
  {
   "cell_type": "code",
   "execution_count": 225,
   "id": "39d467f5",
   "metadata": {},
   "outputs": [
    {
     "data": {
      "text/plain": [
       "(0.3465624111992731, 0.5423264776896157)"
      ]
     },
     "execution_count": 225,
     "metadata": {},
     "output_type": "execute_result"
    }
   ],
   "source": [
    "#yes intervals\n",
    "lower, upper = proportion_confint(count=44, nobs=99, alpha=0.05)\n",
    "lower, upper"
   ]
  },
  {
   "cell_type": "code",
   "execution_count": 226,
   "id": "67855139",
   "metadata": {},
   "outputs": [
    {
     "data": {
      "text/plain": [
       "(0.07277548403426107, 0.21005279879402175)"
      ]
     },
     "execution_count": 226,
     "metadata": {},
     "output_type": "execute_result"
    }
   ],
   "source": [
    "#No intervals\n",
    "lower, upper = proportion_confint(count=14, nobs=99, alpha=0.05)\n",
    "lower, upper"
   ]
  },
  {
   "cell_type": "code",
   "execution_count": 227,
   "id": "4683f93f",
   "metadata": {},
   "outputs": [
    {
     "data": {
      "text/plain": [
       "(0.3171124881404219, 0.5111703401424064)"
      ]
     },
     "execution_count": 227,
     "metadata": {},
     "output_type": "execute_result"
    }
   ],
   "source": [
    "#Maybe intervals\n",
    "lower, upper = proportion_confint(count=41, nobs=99, alpha=0.05)\n",
    "lower, upper"
   ]
  },
  {
   "cell_type": "markdown",
   "id": "f76af9d1",
   "metadata": {},
   "source": [
    ".--------------------------------------------------------------------------------------------------------."
   ]
  },
  {
   "cell_type": "markdown",
   "id": "fb8e6ad5",
   "metadata": {},
   "source": [
    "#### question14)  Are there opportunities for further development in the logistics services currently provided by Saudi Post?\n"
   ]
  },
  {
   "cell_type": "code",
   "execution_count": 228,
   "id": "82efba21",
   "metadata": {},
   "outputs": [
    {
     "data": {
      "text/plain": [
       "Yes      56\n",
       "Maybe    36\n",
       "No        8\n",
       "Name: 18, dtype: int64"
      ]
     },
     "execution_count": 228,
     "metadata": {},
     "output_type": "execute_result"
    }
   ],
   "source": [
    "#values counts\n",
    "df[18].value_counts()"
   ]
  },
  {
   "cell_type": "code",
   "execution_count": 229,
   "id": "7b1c0852",
   "metadata": {},
   "outputs": [
    {
     "data": {
      "image/png": "[encoded data removed]",
      "text/plain": [
       "<Figure size 432x288 with 1 Axes>"
      ]
     },
     "metadata": {
      "needs_background": "light"
     },
     "output_type": "display_data"
    }
   ],
   "source": [
    "draw_plt(18)"
   ]
  },
  {
   "cell_type": "code",
   "execution_count": 230,
   "id": "f8fcf194",
   "metadata": {
    "scrolled": true
   },
   "outputs": [
    {
     "data": {
      "text/plain": [
       "Yes      0.56\n",
       "Maybe    0.36\n",
       "No       0.08\n",
       "Name: 18, dtype: float64"
      ]
     },
     "execution_count": 230,
     "metadata": {},
     "output_type": "execute_result"
    }
   ],
   "source": [
    "get_summary(18)"
   ]
  },
  {
   "cell_type": "code",
   "execution_count": 231,
   "id": "71d47670",
   "metadata": {},
   "outputs": [
    {
     "data": {
      "text/plain": [
       "(0.9048063669912411, 0.6360976539414245)"
      ]
     },
     "execution_count": 231,
     "metadata": {},
     "output_type": "execute_result"
    }
   ],
   "source": [
    "chi2_stat, p_value, dof, expected_values  = stats.chi2_contingency(pd.crosstab(df[2],df[18]))\n",
    "chi2_stat, p_value"
   ]
  },
  {
   "cell_type": "code",
   "execution_count": 232,
   "id": "3887d151",
   "metadata": {},
   "outputs": [
    {
     "data": {
      "text/plain": [
       "(0.4680175167330241, 0.6632956145801072)"
      ]
     },
     "execution_count": 232,
     "metadata": {},
     "output_type": "execute_result"
    }
   ],
   "source": [
    "#yes intervals\n",
    "lower, upper = proportion_confint(count=56, nobs=99, alpha=0.05)\n",
    "lower, upper"
   ]
  },
  {
   "cell_type": "code",
   "execution_count": 233,
   "id": "e9d43136",
   "metadata": {},
   "outputs": [
    {
     "data": {
      "text/plain": [
       "(0.027122088011245736, 0.1344940736049159)"
      ]
     },
     "execution_count": 233,
     "metadata": {},
     "output_type": "execute_result"
    }
   ],
   "source": [
    "#no intervals\n",
    "lower, upper = proportion_confint(count=8, nobs=99, alpha=0.05)\n",
    "lower, upper"
   ]
  },
  {
   "cell_type": "code",
   "execution_count": 234,
   "id": "41636182",
   "metadata": {},
   "outputs": [
    {
     "data": {
      "text/plain": [
       "(0.2593638925215063, 0.44770681454920075)"
      ]
     },
     "execution_count": 234,
     "metadata": {},
     "output_type": "execute_result"
    }
   ],
   "source": [
    "#maybe intervals\n",
    "lower, upper = proportion_confint(count=35, nobs=99, alpha=0.05)\n",
    "lower, upper"
   ]
  },
  {
   "cell_type": "markdown",
   "id": "0dd253b9",
   "metadata": {},
   "source": [
    ".--------------------------------------------------------------------------------------------------------."
   ]
  },
  {
   "cell_type": "markdown",
   "id": "2ecc358a",
   "metadata": {},
   "source": [
    "# conclusion:\n",
    "\n",
    "\n",
    "   ###### 1- In the sample, some differences were observed between males and females in the answers to the questions posed, but The differences in the sample were not sufficient to reach results and inference about the population under study, but it is possible Draw conclusions about these differences with a larger sample size.\n",
    "   ###### 2-Females tended to answer “maybe” more than males, and this may be explained by that the propotion of males with higher  experience is bigger than females.\n",
    "   ###### 3- there are Differences appeared in the sample between male answers and female answers, but there was not enough evidence to infer that there is Real differences in society."
   ]
  },
  {
   "cell_type": "code",
   "execution_count": null,
   "id": "b9d657ee",
   "metadata": {},
   "outputs": [],
   "source": []
  }
 ],
 "metadata": {
  "kernelspec": {
   "display_name": "Python 3 (ipykernel)",
   "language": "python",
   "name": "python3"
  },
  "language_info": {
   "codemirror_mode": {
    "name": "ipython",
    "version": 3
   },
   "file_extension": ".py",
   "mimetype": "text/x-python",
   "name": "python",
   "nbconvert_exporter": "python",
   "pygments_lexer": "ipython3",
   "version": "3.9.7"
  }
 },
 "nbformat": 4,
 "nbformat_minor": 5
}
